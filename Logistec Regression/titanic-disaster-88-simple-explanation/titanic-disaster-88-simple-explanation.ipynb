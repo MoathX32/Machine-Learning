{
 "cells": [
  {
   "cell_type": "markdown",
   "id": "a0da8a98",
   "metadata": {
    "papermill": {
     "duration": 0.040836,
     "end_time": "2021-10-29T14:10:38.570734",
     "exception": false,
     "start_time": "2021-10-29T14:10:38.529898",
     "status": "completed"
    },
    "tags": []
   },
   "source": [
    "# **Load Libraries And Data**"
   ]
  },
  {
   "cell_type": "code",
   "execution_count": 1,
   "id": "6be93a59",
   "metadata": {
    "execution": {
     "iopub.execute_input": "2021-10-29T14:10:38.652439Z",
     "iopub.status.busy": "2021-10-29T14:10:38.651218Z",
     "iopub.status.idle": "2021-10-29T14:10:39.962302Z",
     "shell.execute_reply": "2021-10-29T14:10:39.961641Z",
     "shell.execute_reply.started": "2021-10-29T14:09:13.690235Z"
    },
    "papermill": {
     "duration": 1.351734,
     "end_time": "2021-10-29T14:10:39.962465",
     "exception": false,
     "start_time": "2021-10-29T14:10:38.610731",
     "status": "completed"
    },
    "tags": []
   },
   "outputs": [],
   "source": [
    "import numpy as np \n",
    "import pandas as pd\n",
    "import seaborn as sns \n",
    "import matplotlib.pyplot as plt\n",
    "from sklearn.preprocessing import MinMaxScaler\n",
    "from sklearn.model_selection import train_test_split\n",
    "from sklearn.model_selection import cross_val_score\n",
    "from sklearn.linear_model import LogisticRegression\n",
    "from sklearn.ensemble import RandomForestClassifier\n",
    "from sklearn.ensemble import GradientBoostingClassifier\n",
    "from sklearn.svm import SVC\n",
    "from sklearn.ensemble import VotingClassifier\n",
    "from sklearn.metrics import accuracy_score\n",
    "from sklearn.metrics import confusion_matrix\n",
    "from sklearn.metrics import classification_report\n",
    "import warnings \n",
    "warnings.filterwarnings('ignore')"
   ]
  },
  {
   "cell_type": "code",
   "execution_count": 2,
   "id": "043044ba",
   "metadata": {
    "execution": {
     "iopub.execute_input": "2021-10-29T14:10:40.038389Z",
     "iopub.status.busy": "2021-10-29T14:10:40.037764Z",
     "iopub.status.idle": "2021-10-29T14:10:40.072827Z",
     "shell.execute_reply": "2021-10-29T14:10:40.073375Z",
     "shell.execute_reply.started": "2021-10-29T14:09:13.700563Z"
    },
    "papermill": {
     "duration": 0.07496,
     "end_time": "2021-10-29T14:10:40.073559",
     "exception": false,
     "start_time": "2021-10-29T14:10:39.998599",
     "status": "completed"
    },
    "tags": []
   },
   "outputs": [],
   "source": [
    "'''load training dataset'''\n",
    "train_df = pd.read_csv('../input/titanic/train.csv')\n",
    "test_df = pd.read_csv('../input/titanic/test.csv')\n",
    "subdf = pd.read_csv('../input/titanic/gender_submission.csv')"
   ]
  },
  {
   "cell_type": "markdown",
   "id": "56e77d3b",
   "metadata": {
    "papermill": {
     "duration": 0.035656,
     "end_time": "2021-10-29T14:10:40.145400",
     "exception": false,
     "start_time": "2021-10-29T14:10:40.109744",
     "status": "completed"
    },
    "tags": []
   },
   "source": [
    "**Aggregate data into a single file for easy handling in analysis and cleaning**"
   ]
  },
  {
   "cell_type": "code",
   "execution_count": 3,
   "id": "20ad8fed",
   "metadata": {
    "execution": {
     "iopub.execute_input": "2021-10-29T14:10:40.218972Z",
     "iopub.status.busy": "2021-10-29T14:10:40.218033Z",
     "iopub.status.idle": "2021-10-29T14:10:40.252682Z",
     "shell.execute_reply": "2021-10-29T14:10:40.253181Z",
     "shell.execute_reply.started": "2021-10-29T14:09:13.734153Z"
    },
    "papermill": {
     "duration": 0.072852,
     "end_time": "2021-10-29T14:10:40.253342",
     "exception": false,
     "start_time": "2021-10-29T14:10:40.180490",
     "status": "completed"
    },
    "tags": []
   },
   "outputs": [
    {
     "data": {
      "text/html": [
       "<div>\n",
       "<style scoped>\n",
       "    .dataframe tbody tr th:only-of-type {\n",
       "        vertical-align: middle;\n",
       "    }\n",
       "\n",
       "    .dataframe tbody tr th {\n",
       "        vertical-align: top;\n",
       "    }\n",
       "\n",
       "    .dataframe thead th {\n",
       "        text-align: right;\n",
       "    }\n",
       "</style>\n",
       "<table border=\"1\" class=\"dataframe\">\n",
       "  <thead>\n",
       "    <tr style=\"text-align: right;\">\n",
       "      <th></th>\n",
       "      <th>PassengerId</th>\n",
       "      <th>Survived</th>\n",
       "      <th>Pclass</th>\n",
       "      <th>Name</th>\n",
       "      <th>Sex</th>\n",
       "      <th>Age</th>\n",
       "      <th>SibSp</th>\n",
       "      <th>Parch</th>\n",
       "      <th>Ticket</th>\n",
       "      <th>Fare</th>\n",
       "      <th>Cabin</th>\n",
       "      <th>Embarked</th>\n",
       "    </tr>\n",
       "  </thead>\n",
       "  <tbody>\n",
       "    <tr>\n",
       "      <th>0</th>\n",
       "      <td>1</td>\n",
       "      <td>0</td>\n",
       "      <td>3</td>\n",
       "      <td>Braund, Mr. Owen Harris</td>\n",
       "      <td>male</td>\n",
       "      <td>22.0</td>\n",
       "      <td>1</td>\n",
       "      <td>0</td>\n",
       "      <td>A/5 21171</td>\n",
       "      <td>7.2500</td>\n",
       "      <td>NaN</td>\n",
       "      <td>S</td>\n",
       "    </tr>\n",
       "    <tr>\n",
       "      <th>1</th>\n",
       "      <td>2</td>\n",
       "      <td>1</td>\n",
       "      <td>1</td>\n",
       "      <td>Cumings, Mrs. John Bradley (Florence Briggs Th...</td>\n",
       "      <td>female</td>\n",
       "      <td>38.0</td>\n",
       "      <td>1</td>\n",
       "      <td>0</td>\n",
       "      <td>PC 17599</td>\n",
       "      <td>71.2833</td>\n",
       "      <td>C85</td>\n",
       "      <td>C</td>\n",
       "    </tr>\n",
       "    <tr>\n",
       "      <th>2</th>\n",
       "      <td>3</td>\n",
       "      <td>1</td>\n",
       "      <td>3</td>\n",
       "      <td>Heikkinen, Miss. Laina</td>\n",
       "      <td>female</td>\n",
       "      <td>26.0</td>\n",
       "      <td>0</td>\n",
       "      <td>0</td>\n",
       "      <td>STON/O2. 3101282</td>\n",
       "      <td>7.9250</td>\n",
       "      <td>NaN</td>\n",
       "      <td>S</td>\n",
       "    </tr>\n",
       "    <tr>\n",
       "      <th>3</th>\n",
       "      <td>4</td>\n",
       "      <td>1</td>\n",
       "      <td>1</td>\n",
       "      <td>Futrelle, Mrs. Jacques Heath (Lily May Peel)</td>\n",
       "      <td>female</td>\n",
       "      <td>35.0</td>\n",
       "      <td>1</td>\n",
       "      <td>0</td>\n",
       "      <td>113803</td>\n",
       "      <td>53.1000</td>\n",
       "      <td>C123</td>\n",
       "      <td>S</td>\n",
       "    </tr>\n",
       "    <tr>\n",
       "      <th>4</th>\n",
       "      <td>5</td>\n",
       "      <td>0</td>\n",
       "      <td>3</td>\n",
       "      <td>Allen, Mr. William Henry</td>\n",
       "      <td>male</td>\n",
       "      <td>35.0</td>\n",
       "      <td>0</td>\n",
       "      <td>0</td>\n",
       "      <td>373450</td>\n",
       "      <td>8.0500</td>\n",
       "      <td>NaN</td>\n",
       "      <td>S</td>\n",
       "    </tr>\n",
       "  </tbody>\n",
       "</table>\n",
       "</div>"
      ],
      "text/plain": [
       "   PassengerId  Survived  Pclass  \\\n",
       "0            1         0       3   \n",
       "1            2         1       1   \n",
       "2            3         1       3   \n",
       "3            4         1       1   \n",
       "4            5         0       3   \n",
       "\n",
       "                                                Name     Sex   Age  SibSp  \\\n",
       "0                            Braund, Mr. Owen Harris    male  22.0      1   \n",
       "1  Cumings, Mrs. John Bradley (Florence Briggs Th...  female  38.0      1   \n",
       "2                             Heikkinen, Miss. Laina  female  26.0      0   \n",
       "3       Futrelle, Mrs. Jacques Heath (Lily May Peel)  female  35.0      1   \n",
       "4                           Allen, Mr. William Henry    male  35.0      0   \n",
       "\n",
       "   Parch            Ticket     Fare Cabin Embarked  \n",
       "0      0         A/5 21171   7.2500   NaN        S  \n",
       "1      0          PC 17599  71.2833   C85        C  \n",
       "2      0  STON/O2. 3101282   7.9250   NaN        S  \n",
       "3      0            113803  53.1000  C123        S  \n",
       "4      0            373450   8.0500   NaN        S  "
      ]
     },
     "execution_count": 3,
     "metadata": {},
     "output_type": "execute_result"
    }
   ],
   "source": [
    "sub_df = subdf.drop(['PassengerId'],axis =1)\n",
    "test_df =pd.concat([test_df,sub_df],axis = 1)\n",
    "df = pd.concat([train_df,test_df],axis =0)\n",
    "df.head()"
   ]
  },
  {
   "cell_type": "markdown",
   "id": "36468bd9",
   "metadata": {
    "papermill": {
     "duration": 0.036554,
     "end_time": "2021-10-29T14:10:40.327779",
     "exception": false,
     "start_time": "2021-10-29T14:10:40.291225",
     "status": "completed"
    },
    "tags": []
   },
   "source": [
    "**Rearrange df colmun to get 'Survived' to end of df**"
   ]
  },
  {
   "cell_type": "code",
   "execution_count": 4,
   "id": "276c7a96",
   "metadata": {
    "execution": {
     "iopub.execute_input": "2021-10-29T14:10:40.402817Z",
     "iopub.status.busy": "2021-10-29T14:10:40.401897Z",
     "iopub.status.idle": "2021-10-29T14:10:40.407448Z",
     "shell.execute_reply": "2021-10-29T14:10:40.407980Z",
     "shell.execute_reply.started": "2021-10-29T14:09:13.760901Z"
    },
    "papermill": {
     "duration": 0.044838,
     "end_time": "2021-10-29T14:10:40.408142",
     "exception": false,
     "start_time": "2021-10-29T14:10:40.363304",
     "status": "completed"
    },
    "tags": []
   },
   "outputs": [
    {
     "data": {
      "text/plain": [
       "['PassengerId',\n",
       " 'Survived',\n",
       " 'Pclass',\n",
       " 'Name',\n",
       " 'Sex',\n",
       " 'Age',\n",
       " 'SibSp',\n",
       " 'Parch',\n",
       " 'Ticket',\n",
       " 'Fare',\n",
       " 'Cabin',\n",
       " 'Embarked']"
      ]
     },
     "execution_count": 4,
     "metadata": {},
     "output_type": "execute_result"
    }
   ],
   "source": [
    "list(df.columns.values)"
   ]
  },
  {
   "cell_type": "code",
   "execution_count": 5,
   "id": "06f43052",
   "metadata": {
    "execution": {
     "iopub.execute_input": "2021-10-29T14:10:40.541416Z",
     "iopub.status.busy": "2021-10-29T14:10:40.540778Z",
     "iopub.status.idle": "2021-10-29T14:10:40.554500Z",
     "shell.execute_reply": "2021-10-29T14:10:40.555116Z",
     "shell.execute_reply.started": "2021-10-29T14:09:13.777823Z"
    },
    "papermill": {
     "duration": 0.055878,
     "end_time": "2021-10-29T14:10:40.555281",
     "exception": false,
     "start_time": "2021-10-29T14:10:40.499403",
     "status": "completed"
    },
    "tags": []
   },
   "outputs": [
    {
     "data": {
      "text/html": [
       "<div>\n",
       "<style scoped>\n",
       "    .dataframe tbody tr th:only-of-type {\n",
       "        vertical-align: middle;\n",
       "    }\n",
       "\n",
       "    .dataframe tbody tr th {\n",
       "        vertical-align: top;\n",
       "    }\n",
       "\n",
       "    .dataframe thead th {\n",
       "        text-align: right;\n",
       "    }\n",
       "</style>\n",
       "<table border=\"1\" class=\"dataframe\">\n",
       "  <thead>\n",
       "    <tr style=\"text-align: right;\">\n",
       "      <th></th>\n",
       "      <th>PassengerId</th>\n",
       "      <th>Pclass</th>\n",
       "      <th>Name</th>\n",
       "      <th>Sex</th>\n",
       "      <th>Age</th>\n",
       "      <th>SibSp</th>\n",
       "      <th>Parch</th>\n",
       "      <th>Ticket</th>\n",
       "      <th>Fare</th>\n",
       "      <th>Cabin</th>\n",
       "      <th>Embarked</th>\n",
       "      <th>Survived</th>\n",
       "    </tr>\n",
       "  </thead>\n",
       "  <tbody>\n",
       "    <tr>\n",
       "      <th>0</th>\n",
       "      <td>1</td>\n",
       "      <td>3</td>\n",
       "      <td>Braund, Mr. Owen Harris</td>\n",
       "      <td>male</td>\n",
       "      <td>22.0</td>\n",
       "      <td>1</td>\n",
       "      <td>0</td>\n",
       "      <td>A/5 21171</td>\n",
       "      <td>7.2500</td>\n",
       "      <td>NaN</td>\n",
       "      <td>S</td>\n",
       "      <td>0</td>\n",
       "    </tr>\n",
       "    <tr>\n",
       "      <th>1</th>\n",
       "      <td>2</td>\n",
       "      <td>1</td>\n",
       "      <td>Cumings, Mrs. John Bradley (Florence Briggs Th...</td>\n",
       "      <td>female</td>\n",
       "      <td>38.0</td>\n",
       "      <td>1</td>\n",
       "      <td>0</td>\n",
       "      <td>PC 17599</td>\n",
       "      <td>71.2833</td>\n",
       "      <td>C85</td>\n",
       "      <td>C</td>\n",
       "      <td>1</td>\n",
       "    </tr>\n",
       "    <tr>\n",
       "      <th>2</th>\n",
       "      <td>3</td>\n",
       "      <td>3</td>\n",
       "      <td>Heikkinen, Miss. Laina</td>\n",
       "      <td>female</td>\n",
       "      <td>26.0</td>\n",
       "      <td>0</td>\n",
       "      <td>0</td>\n",
       "      <td>STON/O2. 3101282</td>\n",
       "      <td>7.9250</td>\n",
       "      <td>NaN</td>\n",
       "      <td>S</td>\n",
       "      <td>1</td>\n",
       "    </tr>\n",
       "    <tr>\n",
       "      <th>3</th>\n",
       "      <td>4</td>\n",
       "      <td>1</td>\n",
       "      <td>Futrelle, Mrs. Jacques Heath (Lily May Peel)</td>\n",
       "      <td>female</td>\n",
       "      <td>35.0</td>\n",
       "      <td>1</td>\n",
       "      <td>0</td>\n",
       "      <td>113803</td>\n",
       "      <td>53.1000</td>\n",
       "      <td>C123</td>\n",
       "      <td>S</td>\n",
       "      <td>1</td>\n",
       "    </tr>\n",
       "    <tr>\n",
       "      <th>4</th>\n",
       "      <td>5</td>\n",
       "      <td>3</td>\n",
       "      <td>Allen, Mr. William Henry</td>\n",
       "      <td>male</td>\n",
       "      <td>35.0</td>\n",
       "      <td>0</td>\n",
       "      <td>0</td>\n",
       "      <td>373450</td>\n",
       "      <td>8.0500</td>\n",
       "      <td>NaN</td>\n",
       "      <td>S</td>\n",
       "      <td>0</td>\n",
       "    </tr>\n",
       "  </tbody>\n",
       "</table>\n",
       "</div>"
      ],
      "text/plain": [
       "   PassengerId  Pclass                                               Name  \\\n",
       "0            1       3                            Braund, Mr. Owen Harris   \n",
       "1            2       1  Cumings, Mrs. John Bradley (Florence Briggs Th...   \n",
       "2            3       3                             Heikkinen, Miss. Laina   \n",
       "3            4       1       Futrelle, Mrs. Jacques Heath (Lily May Peel)   \n",
       "4            5       3                           Allen, Mr. William Henry   \n",
       "\n",
       "      Sex   Age  SibSp  Parch            Ticket     Fare Cabin Embarked  \\\n",
       "0    male  22.0      1      0         A/5 21171   7.2500   NaN        S   \n",
       "1  female  38.0      1      0          PC 17599  71.2833   C85        C   \n",
       "2  female  26.0      0      0  STON/O2. 3101282   7.9250   NaN        S   \n",
       "3  female  35.0      1      0            113803  53.1000  C123        S   \n",
       "4    male  35.0      0      0            373450   8.0500   NaN        S   \n",
       "\n",
       "   Survived  \n",
       "0         0  \n",
       "1         1  \n",
       "2         1  \n",
       "3         1  \n",
       "4         0  "
      ]
     },
     "execution_count": 5,
     "metadata": {},
     "output_type": "execute_result"
    }
   ],
   "source": [
    "df = df[['PassengerId','Pclass','Name','Sex','Age','SibSp','Parch','Ticket','Fare','Cabin','Embarked','Survived']]\n",
    "df.head()"
   ]
  },
  {
   "cell_type": "code",
   "execution_count": 6,
   "id": "9b1af175",
   "metadata": {
    "execution": {
     "iopub.execute_input": "2021-10-29T14:10:40.632733Z",
     "iopub.status.busy": "2021-10-29T14:10:40.632144Z",
     "iopub.status.idle": "2021-10-29T14:10:40.636361Z",
     "shell.execute_reply": "2021-10-29T14:10:40.636906Z",
     "shell.execute_reply.started": "2021-10-29T14:09:13.801937Z"
    },
    "papermill": {
     "duration": 0.044552,
     "end_time": "2021-10-29T14:10:40.637106",
     "exception": false,
     "start_time": "2021-10-29T14:10:40.592554",
     "status": "completed"
    },
    "tags": []
   },
   "outputs": [
    {
     "data": {
      "text/plain": [
       "(1309, 12)"
      ]
     },
     "execution_count": 6,
     "metadata": {},
     "output_type": "execute_result"
    }
   ],
   "source": [
    "df.shape"
   ]
  },
  {
   "cell_type": "code",
   "execution_count": 7,
   "id": "fe61a663",
   "metadata": {
    "execution": {
     "iopub.execute_input": "2021-10-29T14:10:40.716241Z",
     "iopub.status.busy": "2021-10-29T14:10:40.715627Z",
     "iopub.status.idle": "2021-10-29T14:10:40.749096Z",
     "shell.execute_reply": "2021-10-29T14:10:40.748623Z",
     "shell.execute_reply.started": "2021-10-29T14:09:13.809549Z"
    },
    "papermill": {
     "duration": 0.074364,
     "end_time": "2021-10-29T14:10:40.749228",
     "exception": false,
     "start_time": "2021-10-29T14:10:40.674864",
     "status": "completed"
    },
    "tags": []
   },
   "outputs": [
    {
     "data": {
      "text/html": [
       "<div>\n",
       "<style scoped>\n",
       "    .dataframe tbody tr th:only-of-type {\n",
       "        vertical-align: middle;\n",
       "    }\n",
       "\n",
       "    .dataframe tbody tr th {\n",
       "        vertical-align: top;\n",
       "    }\n",
       "\n",
       "    .dataframe thead th {\n",
       "        text-align: right;\n",
       "    }\n",
       "</style>\n",
       "<table border=\"1\" class=\"dataframe\">\n",
       "  <thead>\n",
       "    <tr style=\"text-align: right;\">\n",
       "      <th></th>\n",
       "      <th>PassengerId</th>\n",
       "      <th>Pclass</th>\n",
       "      <th>Age</th>\n",
       "      <th>SibSp</th>\n",
       "      <th>Parch</th>\n",
       "      <th>Fare</th>\n",
       "      <th>Survived</th>\n",
       "    </tr>\n",
       "  </thead>\n",
       "  <tbody>\n",
       "    <tr>\n",
       "      <th>count</th>\n",
       "      <td>1309.000000</td>\n",
       "      <td>1309.000000</td>\n",
       "      <td>1046.000000</td>\n",
       "      <td>1309.000000</td>\n",
       "      <td>1309.000000</td>\n",
       "      <td>1308.000000</td>\n",
       "      <td>1309.000000</td>\n",
       "    </tr>\n",
       "    <tr>\n",
       "      <th>mean</th>\n",
       "      <td>655.000000</td>\n",
       "      <td>2.294882</td>\n",
       "      <td>29.881138</td>\n",
       "      <td>0.498854</td>\n",
       "      <td>0.385027</td>\n",
       "      <td>33.295479</td>\n",
       "      <td>0.377387</td>\n",
       "    </tr>\n",
       "    <tr>\n",
       "      <th>std</th>\n",
       "      <td>378.020061</td>\n",
       "      <td>0.837836</td>\n",
       "      <td>14.413493</td>\n",
       "      <td>1.041658</td>\n",
       "      <td>0.865560</td>\n",
       "      <td>51.758668</td>\n",
       "      <td>0.484918</td>\n",
       "    </tr>\n",
       "    <tr>\n",
       "      <th>min</th>\n",
       "      <td>1.000000</td>\n",
       "      <td>1.000000</td>\n",
       "      <td>0.170000</td>\n",
       "      <td>0.000000</td>\n",
       "      <td>0.000000</td>\n",
       "      <td>0.000000</td>\n",
       "      <td>0.000000</td>\n",
       "    </tr>\n",
       "    <tr>\n",
       "      <th>25%</th>\n",
       "      <td>328.000000</td>\n",
       "      <td>2.000000</td>\n",
       "      <td>21.000000</td>\n",
       "      <td>0.000000</td>\n",
       "      <td>0.000000</td>\n",
       "      <td>7.895800</td>\n",
       "      <td>0.000000</td>\n",
       "    </tr>\n",
       "    <tr>\n",
       "      <th>50%</th>\n",
       "      <td>655.000000</td>\n",
       "      <td>3.000000</td>\n",
       "      <td>28.000000</td>\n",
       "      <td>0.000000</td>\n",
       "      <td>0.000000</td>\n",
       "      <td>14.454200</td>\n",
       "      <td>0.000000</td>\n",
       "    </tr>\n",
       "    <tr>\n",
       "      <th>75%</th>\n",
       "      <td>982.000000</td>\n",
       "      <td>3.000000</td>\n",
       "      <td>39.000000</td>\n",
       "      <td>1.000000</td>\n",
       "      <td>0.000000</td>\n",
       "      <td>31.275000</td>\n",
       "      <td>1.000000</td>\n",
       "    </tr>\n",
       "    <tr>\n",
       "      <th>max</th>\n",
       "      <td>1309.000000</td>\n",
       "      <td>3.000000</td>\n",
       "      <td>80.000000</td>\n",
       "      <td>8.000000</td>\n",
       "      <td>9.000000</td>\n",
       "      <td>512.329200</td>\n",
       "      <td>1.000000</td>\n",
       "    </tr>\n",
       "  </tbody>\n",
       "</table>\n",
       "</div>"
      ],
      "text/plain": [
       "       PassengerId       Pclass          Age        SibSp        Parch  \\\n",
       "count  1309.000000  1309.000000  1046.000000  1309.000000  1309.000000   \n",
       "mean    655.000000     2.294882    29.881138     0.498854     0.385027   \n",
       "std     378.020061     0.837836    14.413493     1.041658     0.865560   \n",
       "min       1.000000     1.000000     0.170000     0.000000     0.000000   \n",
       "25%     328.000000     2.000000    21.000000     0.000000     0.000000   \n",
       "50%     655.000000     3.000000    28.000000     0.000000     0.000000   \n",
       "75%     982.000000     3.000000    39.000000     1.000000     0.000000   \n",
       "max    1309.000000     3.000000    80.000000     8.000000     9.000000   \n",
       "\n",
       "              Fare     Survived  \n",
       "count  1308.000000  1309.000000  \n",
       "mean     33.295479     0.377387  \n",
       "std      51.758668     0.484918  \n",
       "min       0.000000     0.000000  \n",
       "25%       7.895800     0.000000  \n",
       "50%      14.454200     0.000000  \n",
       "75%      31.275000     1.000000  \n",
       "max     512.329200     1.000000  "
      ]
     },
     "execution_count": 7,
     "metadata": {},
     "output_type": "execute_result"
    }
   ],
   "source": [
    "df.describe()"
   ]
  },
  {
   "cell_type": "markdown",
   "id": "2fefd6f7",
   "metadata": {
    "papermill": {
     "duration": 0.038482,
     "end_time": "2021-10-29T14:10:40.826252",
     "exception": false,
     "start_time": "2021-10-29T14:10:40.787770",
     "status": "completed"
    },
    "tags": []
   },
   "source": [
    "# **EDA and Visualization**"
   ]
  },
  {
   "cell_type": "markdown",
   "id": "d2d1690f",
   "metadata": {
    "papermill": {
     "duration": 0.038579,
     "end_time": "2021-10-29T14:10:40.903797",
     "exception": false,
     "start_time": "2021-10-29T14:10:40.865218",
     "status": "completed"
    },
    "tags": []
   },
   "source": [
    "**missing values**"
   ]
  },
  {
   "cell_type": "code",
   "execution_count": 8,
   "id": "467e707e",
   "metadata": {
    "execution": {
     "iopub.execute_input": "2021-10-29T14:10:40.992655Z",
     "iopub.status.busy": "2021-10-29T14:10:40.991988Z",
     "iopub.status.idle": "2021-10-29T14:10:41.395639Z",
     "shell.execute_reply": "2021-10-29T14:10:41.395000Z",
     "shell.execute_reply.started": "2021-10-29T14:09:13.853992Z"
    },
    "papermill": {
     "duration": 0.452219,
     "end_time": "2021-10-29T14:10:41.395777",
     "exception": false,
     "start_time": "2021-10-29T14:10:40.943558",
     "status": "completed"
    },
    "tags": []
   },
   "outputs": [
    {
     "name": "stdout",
     "output_type": "stream",
     "text": [
      "PassengerId       0\n",
      "Pclass            0\n",
      "Name              0\n",
      "Sex               0\n",
      "Age             263\n",
      "SibSp             0\n",
      "Parch             0\n",
      "Ticket            0\n",
      "Fare              1\n",
      "Cabin          1014\n",
      "Embarked          2\n",
      "Survived          0\n",
      "dtype: int64\n"
     ]
    },
    {
     "data": {
      "text/plain": [
       "<AxesSubplot:>"
      ]
     },
     "execution_count": 8,
     "metadata": {},
     "output_type": "execute_result"
    },
    {
     "data": {
      "image/png": "[encoded data removed]",
      "text/plain": [
       "<Figure size 432x288 with 1 Axes>"
      ]
     },
     "metadata": {
      "needs_background": "light"
     },
     "output_type": "display_data"
    }
   ],
   "source": [
    "print(df.isnull().sum())\n",
    "sns.heatmap(df.isnull(),cbar=False, cmap='viridis')"
   ]
  },
  {
   "cell_type": "code",
   "execution_count": 9,
   "id": "a2c19724",
   "metadata": {
    "execution": {
     "iopub.execute_input": "2021-10-29T14:10:41.486005Z",
     "iopub.status.busy": "2021-10-29T14:10:41.481606Z",
     "iopub.status.idle": "2021-10-29T14:10:41.672565Z",
     "shell.execute_reply": "2021-10-29T14:10:41.672074Z",
     "shell.execute_reply.started": "2021-10-29T14:09:14.284148Z"
    },
    "papermill": {
     "duration": 0.237639,
     "end_time": "2021-10-29T14:10:41.672701",
     "exception": false,
     "start_time": "2021-10-29T14:10:41.435062",
     "status": "completed"
    },
    "tags": []
   },
   "outputs": [
    {
     "data": {
      "text/plain": [
       "<AxesSubplot:xlabel='Survived', ylabel='count'>"
      ]
     },
     "execution_count": 9,
     "metadata": {},
     "output_type": "execute_result"
    },
    {
     "data": {
      "image/png": "[encoded data removed]",
      "text/plain": [
       "<Figure size 432x288 with 1 Axes>"
      ]
     },
     "metadata": {
      "needs_background": "light"
     },
     "output_type": "display_data"
    }
   ],
   "source": [
    "df['Survived'].value_counts()\n",
    "sns.countplot(df['Survived'])"
   ]
  },
  {
   "cell_type": "markdown",
   "id": "09f2c63e",
   "metadata": {
    "papermill": {
     "duration": 0.040911,
     "end_time": "2021-10-29T14:10:41.754404",
     "exception": false,
     "start_time": "2021-10-29T14:10:41.713493",
     "status": "completed"
    },
    "tags": []
   },
   "source": [
    "**Correlation between features**"
   ]
  },
  {
   "cell_type": "code",
   "execution_count": 10,
   "id": "c12d56a1",
   "metadata": {
    "execution": {
     "iopub.execute_input": "2021-10-29T14:10:41.840091Z",
     "iopub.status.busy": "2021-10-29T14:10:41.839504Z",
     "iopub.status.idle": "2021-10-29T14:10:42.166201Z",
     "shell.execute_reply": "2021-10-29T14:10:42.165603Z",
     "shell.execute_reply.started": "2021-10-29T14:09:14.678406Z"
    },
    "papermill": {
     "duration": 0.37003,
     "end_time": "2021-10-29T14:10:42.166333",
     "exception": false,
     "start_time": "2021-10-29T14:10:41.796303",
     "status": "completed"
    },
    "tags": []
   },
   "outputs": [
    {
     "data": {
      "text/plain": [
       "<AxesSubplot:>"
      ]
     },
     "execution_count": 10,
     "metadata": {},
     "output_type": "execute_result"
    },
    {
     "data": {
      "image/png": "[encoded data removed]",
      "text/plain": [
       "<Figure size 432x288 with 2 Axes>"
      ]
     },
     "metadata": {
      "needs_background": "light"
     },
     "output_type": "display_data"
    }
   ],
   "source": [
    "corr_matrix = df.corr()\n",
    "cmap = sns.diverging_palette(230, 20, as_cmap=True) \n",
    "sns.heatmap(corr_matrix, annot=None ,cmap=cmap)"
   ]
  },
  {
   "cell_type": "markdown",
   "id": "1bf995ba",
   "metadata": {
    "papermill": {
     "duration": 0.039705,
     "end_time": "2021-10-29T14:10:42.247521",
     "exception": false,
     "start_time": "2021-10-29T14:10:42.207816",
     "status": "completed"
    },
    "tags": []
   },
   "source": [
    "**largest 4 correlation with y**"
   ]
  },
  {
   "cell_type": "code",
   "execution_count": 11,
   "id": "c331b247",
   "metadata": {
    "execution": {
     "iopub.execute_input": "2021-10-29T14:10:42.334977Z",
     "iopub.status.busy": "2021-10-29T14:10:42.334090Z",
     "iopub.status.idle": "2021-10-29T14:10:42.342969Z",
     "shell.execute_reply": "2021-10-29T14:10:42.343592Z",
     "shell.execute_reply.started": "2021-10-29T14:09:15.065660Z"
    },
    "papermill": {
     "duration": 0.054026,
     "end_time": "2021-10-29T14:10:42.343756",
     "exception": false,
     "start_time": "2021-10-29T14:10:42.289730",
     "status": "completed"
    },
    "tags": []
   },
   "outputs": [
    {
     "data": {
      "text/plain": [
       "Index(['Survived', 'Fare', 'Parch', 'SibSp', 'PassengerId'], dtype='object')"
      ]
     },
     "execution_count": 11,
     "metadata": {},
     "output_type": "execute_result"
    }
   ],
   "source": [
    "corr_matrix.nlargest(5, 'Survived')['Survived'].index"
   ]
  },
  {
   "cell_type": "markdown",
   "id": "66eae0a7",
   "metadata": {
    "papermill": {
     "duration": 0.040581,
     "end_time": "2021-10-29T14:10:42.425309",
     "exception": false,
     "start_time": "2021-10-29T14:10:42.384728",
     "status": "completed"
    },
    "tags": []
   },
   "source": [
    "**drop smallest Correlation features, most missing values in features and less important features**"
   ]
  },
  {
   "cell_type": "code",
   "execution_count": 12,
   "id": "d775c92f",
   "metadata": {
    "execution": {
     "iopub.execute_input": "2021-10-29T14:10:42.510387Z",
     "iopub.status.busy": "2021-10-29T14:10:42.509521Z",
     "iopub.status.idle": "2021-10-29T14:10:42.524331Z",
     "shell.execute_reply": "2021-10-29T14:10:42.524823Z",
     "shell.execute_reply.started": "2021-10-29T14:09:15.075133Z"
    },
    "papermill": {
     "duration": 0.058057,
     "end_time": "2021-10-29T14:10:42.524976",
     "exception": false,
     "start_time": "2021-10-29T14:10:42.466919",
     "status": "completed"
    },
    "tags": []
   },
   "outputs": [
    {
     "data": {
      "text/html": [
       "<div>\n",
       "<style scoped>\n",
       "    .dataframe tbody tr th:only-of-type {\n",
       "        vertical-align: middle;\n",
       "    }\n",
       "\n",
       "    .dataframe tbody tr th {\n",
       "        vertical-align: top;\n",
       "    }\n",
       "\n",
       "    .dataframe thead th {\n",
       "        text-align: right;\n",
       "    }\n",
       "</style>\n",
       "<table border=\"1\" class=\"dataframe\">\n",
       "  <thead>\n",
       "    <tr style=\"text-align: right;\">\n",
       "      <th></th>\n",
       "      <th>PassengerId</th>\n",
       "      <th>Pclass</th>\n",
       "      <th>Sex</th>\n",
       "      <th>Age</th>\n",
       "      <th>SibSp</th>\n",
       "      <th>Parch</th>\n",
       "      <th>Ticket</th>\n",
       "      <th>Fare</th>\n",
       "      <th>Embarked</th>\n",
       "      <th>Survived</th>\n",
       "    </tr>\n",
       "  </thead>\n",
       "  <tbody>\n",
       "    <tr>\n",
       "      <th>0</th>\n",
       "      <td>1</td>\n",
       "      <td>3</td>\n",
       "      <td>male</td>\n",
       "      <td>22.0</td>\n",
       "      <td>1</td>\n",
       "      <td>0</td>\n",
       "      <td>A/5 21171</td>\n",
       "      <td>7.2500</td>\n",
       "      <td>S</td>\n",
       "      <td>0</td>\n",
       "    </tr>\n",
       "    <tr>\n",
       "      <th>1</th>\n",
       "      <td>2</td>\n",
       "      <td>1</td>\n",
       "      <td>female</td>\n",
       "      <td>38.0</td>\n",
       "      <td>1</td>\n",
       "      <td>0</td>\n",
       "      <td>PC 17599</td>\n",
       "      <td>71.2833</td>\n",
       "      <td>C</td>\n",
       "      <td>1</td>\n",
       "    </tr>\n",
       "    <tr>\n",
       "      <th>2</th>\n",
       "      <td>3</td>\n",
       "      <td>3</td>\n",
       "      <td>female</td>\n",
       "      <td>26.0</td>\n",
       "      <td>0</td>\n",
       "      <td>0</td>\n",
       "      <td>STON/O2. 3101282</td>\n",
       "      <td>7.9250</td>\n",
       "      <td>S</td>\n",
       "      <td>1</td>\n",
       "    </tr>\n",
       "    <tr>\n",
       "      <th>3</th>\n",
       "      <td>4</td>\n",
       "      <td>1</td>\n",
       "      <td>female</td>\n",
       "      <td>35.0</td>\n",
       "      <td>1</td>\n",
       "      <td>0</td>\n",
       "      <td>113803</td>\n",
       "      <td>53.1000</td>\n",
       "      <td>S</td>\n",
       "      <td>1</td>\n",
       "    </tr>\n",
       "    <tr>\n",
       "      <th>4</th>\n",
       "      <td>5</td>\n",
       "      <td>3</td>\n",
       "      <td>male</td>\n",
       "      <td>35.0</td>\n",
       "      <td>0</td>\n",
       "      <td>0</td>\n",
       "      <td>373450</td>\n",
       "      <td>8.0500</td>\n",
       "      <td>S</td>\n",
       "      <td>0</td>\n",
       "    </tr>\n",
       "  </tbody>\n",
       "</table>\n",
       "</div>"
      ],
      "text/plain": [
       "   PassengerId  Pclass     Sex   Age  SibSp  Parch            Ticket     Fare  \\\n",
       "0            1       3    male  22.0      1      0         A/5 21171   7.2500   \n",
       "1            2       1  female  38.0      1      0          PC 17599  71.2833   \n",
       "2            3       3  female  26.0      0      0  STON/O2. 3101282   7.9250   \n",
       "3            4       1  female  35.0      1      0            113803  53.1000   \n",
       "4            5       3    male  35.0      0      0            373450   8.0500   \n",
       "\n",
       "  Embarked  Survived  \n",
       "0        S         0  \n",
       "1        C         1  \n",
       "2        S         1  \n",
       "3        S         1  \n",
       "4        S         0  "
      ]
     },
     "execution_count": 12,
     "metadata": {},
     "output_type": "execute_result"
    }
   ],
   "source": [
    "lis=['Cabin','Name']\n",
    "df= df.drop(lis ,axis=1)\n",
    "df.head()"
   ]
  },
  {
   "cell_type": "markdown",
   "id": "e84dafd3",
   "metadata": {
    "papermill": {
     "duration": 0.040788,
     "end_time": "2021-10-29T14:10:42.607274",
     "exception": false,
     "start_time": "2021-10-29T14:10:42.566486",
     "status": "completed"
    },
    "tags": []
   },
   "source": [
    "**Survival rate analysis for both sexes**"
   ]
  },
  {
   "cell_type": "code",
   "execution_count": 13,
   "id": "ef7a02be",
   "metadata": {
    "execution": {
     "iopub.execute_input": "2021-10-29T14:10:42.695130Z",
     "iopub.status.busy": "2021-10-29T14:10:42.694116Z",
     "iopub.status.idle": "2021-10-29T14:10:42.938844Z",
     "shell.execute_reply": "2021-10-29T14:10:42.939413Z",
     "shell.execute_reply.started": "2021-10-29T14:09:15.097219Z"
    },
    "papermill": {
     "duration": 0.290172,
     "end_time": "2021-10-29T14:10:42.939581",
     "exception": false,
     "start_time": "2021-10-29T14:10:42.649409",
     "status": "completed"
    },
    "tags": []
   },
   "outputs": [
    {
     "data": {
      "text/plain": [
       "<AxesSubplot:xlabel='Survived', ylabel='count'>"
      ]
     },
     "execution_count": 13,
     "metadata": {},
     "output_type": "execute_result"
    },
    {
     "data": {
      "image/png": "[encoded data removed]",
      "text/plain": [
       "<Figure size 432x288 with 1 Axes>"
      ]
     },
     "metadata": {},
     "output_type": "display_data"
    }
   ],
   "source": [
    "sns.set_style('whitegrid')\n",
    "sns.countplot(x=df['Survived'],hue=df['Sex'],data=df)"
   ]
  },
  {
   "cell_type": "markdown",
   "id": "899a6dd6",
   "metadata": {
    "papermill": {
     "duration": 0.043313,
     "end_time": "2021-10-29T14:10:43.026284",
     "exception": false,
     "start_time": "2021-10-29T14:10:42.982971",
     "status": "completed"
    },
    "tags": []
   },
   "source": [
    "**Survival rate analysis relation with Age ,Pclass ,Fare,Parch**"
   ]
  },
  {
   "cell_type": "code",
   "execution_count": 14,
   "id": "d26f3c34",
   "metadata": {
    "execution": {
     "iopub.execute_input": "2021-10-29T14:10:43.116161Z",
     "iopub.status.busy": "2021-10-29T14:10:43.115113Z",
     "iopub.status.idle": "2021-10-29T14:10:44.922411Z",
     "shell.execute_reply": "2021-10-29T14:10:44.921850Z",
     "shell.execute_reply.started": "2021-10-29T14:09:15.348379Z"
    },
    "papermill": {
     "duration": 1.853536,
     "end_time": "2021-10-29T14:10:44.922550",
     "exception": false,
     "start_time": "2021-10-29T14:10:43.069014",
     "status": "completed"
    },
    "tags": []
   },
   "outputs": [
    {
     "name": "stdout",
     "output_type": "stream",
     "text": [
      "Age & Survived\n",
      "Pclass & Survived\n",
      "Fare & Survived\n",
      "Parch & Survived\n"
     ]
    },
    {
     "data": {
      "image/png": "[encoded data removed]",
      "text/plain": [
       "<Figure size 432x288 with 2 Axes>"
      ]
     },
     "metadata": {},
     "output_type": "display_data"
    },
    {
     "data": {
      "image/png": "[encoded data removed]",
      "text/plain": [
       "<Figure size 432x288 with 2 Axes>"
      ]
     },
     "metadata": {},
     "output_type": "display_data"
    },
    {
     "data": {
      "image/png": "[encoded data removed]",
      "text/plain": [
       "<Figure size 432x288 with 2 Axes>"
      ]
     },
     "metadata": {},
     "output_type": "display_data"
    },
    {
     "data": {
      "image/png": "[encoded data removed]",
      "text/plain": [
       "<Figure size 432x288 with 2 Axes>"
      ]
     },
     "metadata": {},
     "output_type": "display_data"
    }
   ],
   "source": [
    "for i in df[['Age' ,'Pclass' ,'Fare','Parch']] :\n",
    "    print(i,'&','Survived')\n",
    "    df.hist(column=i, by='Survived')"
   ]
  },
  {
   "cell_type": "markdown",
   "id": "88f0f01e",
   "metadata": {
    "papermill": {
     "duration": 0.046244,
     "end_time": "2021-10-29T14:10:45.015243",
     "exception": false,
     "start_time": "2021-10-29T14:10:44.968999",
     "status": "completed"
    },
    "tags": []
   },
   "source": [
    "# **Data cleaning**"
   ]
  },
  {
   "cell_type": "markdown",
   "id": "b71490e6",
   "metadata": {
    "papermill": {
     "duration": 0.04563,
     "end_time": "2021-10-29T14:10:45.106778",
     "exception": false,
     "start_time": "2021-10-29T14:10:45.061148",
     "status": "completed"
    },
    "tags": []
   },
   "source": [
    "**First ,dealing with numerics data**"
   ]
  },
  {
   "cell_type": "code",
   "execution_count": 15,
   "id": "72485dcb",
   "metadata": {
    "execution": {
     "iopub.execute_input": "2021-10-29T14:10:45.211850Z",
     "iopub.status.busy": "2021-10-29T14:10:45.210021Z",
     "iopub.status.idle": "2021-10-29T14:10:45.215766Z",
     "shell.execute_reply": "2021-10-29T14:10:45.215274Z",
     "shell.execute_reply.started": "2021-10-29T14:09:17.302270Z"
    },
    "papermill": {
     "duration": 0.061215,
     "end_time": "2021-10-29T14:10:45.215902",
     "exception": false,
     "start_time": "2021-10-29T14:10:45.154687",
     "status": "completed"
    },
    "tags": []
   },
   "outputs": [],
   "source": [
    "cleaning = df.drop(['Survived'],axis = 1)\n",
    "Survived = df['Survived']\n",
    "numerics = ['int16', 'int32', 'int64', 'float16', 'float32', 'float64']\n",
    "numeric_cols = cleaning.select_dtypes(include=numerics)\n",
    "numeric_cols = numeric_cols.fillna(numeric_cols.mean())"
   ]
  },
  {
   "cell_type": "markdown",
   "id": "29cebe0f",
   "metadata": {
    "papermill": {
     "duration": 0.047234,
     "end_time": "2021-10-29T14:10:45.309623",
     "exception": false,
     "start_time": "2021-10-29T14:10:45.262389",
     "status": "completed"
    },
    "tags": []
   },
   "source": [
    "**Then ,dealing with numerics categorical data**"
   ]
  },
  {
   "cell_type": "code",
   "execution_count": 16,
   "id": "5c77e046",
   "metadata": {
    "execution": {
     "iopub.execute_input": "2021-10-29T14:10:45.413815Z",
     "iopub.status.busy": "2021-10-29T14:10:45.412808Z",
     "iopub.status.idle": "2021-10-29T14:10:45.422068Z",
     "shell.execute_reply": "2021-10-29T14:10:45.422654Z",
     "shell.execute_reply.started": "2021-10-29T14:09:17.315305Z"
    },
    "papermill": {
     "duration": 0.066949,
     "end_time": "2021-10-29T14:10:45.422818",
     "exception": false,
     "start_time": "2021-10-29T14:10:45.355869",
     "status": "completed"
    },
    "tags": []
   },
   "outputs": [],
   "source": [
    "categorical = ['object']\n",
    "categorical_cols = cleaning.select_dtypes(include=categorical)\n",
    "categorical_cols = categorical_cols.fillna('none')\n",
    "categorical_cols = pd.get_dummies(categorical_cols )"
   ]
  },
  {
   "cell_type": "markdown",
   "id": "e84564b7",
   "metadata": {
    "papermill": {
     "duration": 0.048342,
     "end_time": "2021-10-29T14:10:45.518741",
     "exception": false,
     "start_time": "2021-10-29T14:10:45.470399",
     "status": "completed"
    },
    "tags": []
   },
   "source": [
    "**Regrouping the data into a single file and splitting it to pass it to the model**"
   ]
  },
  {
   "cell_type": "code",
   "execution_count": 17,
   "id": "a53ace2e",
   "metadata": {
    "execution": {
     "iopub.execute_input": "2021-10-29T14:10:45.615229Z",
     "iopub.status.busy": "2021-10-29T14:10:45.614575Z",
     "iopub.status.idle": "2021-10-29T14:10:45.637235Z",
     "shell.execute_reply": "2021-10-29T14:10:45.637748Z",
     "shell.execute_reply.started": "2021-10-29T14:09:17.341505Z"
    },
    "papermill": {
     "duration": 0.072162,
     "end_time": "2021-10-29T14:10:45.637942",
     "exception": false,
     "start_time": "2021-10-29T14:10:45.565780",
     "status": "completed"
    },
    "tags": []
   },
   "outputs": [
    {
     "data": {
      "text/html": [
       "<div>\n",
       "<style scoped>\n",
       "    .dataframe tbody tr th:only-of-type {\n",
       "        vertical-align: middle;\n",
       "    }\n",
       "\n",
       "    .dataframe tbody tr th {\n",
       "        vertical-align: top;\n",
       "    }\n",
       "\n",
       "    .dataframe thead th {\n",
       "        text-align: right;\n",
       "    }\n",
       "</style>\n",
       "<table border=\"1\" class=\"dataframe\">\n",
       "  <thead>\n",
       "    <tr style=\"text-align: right;\">\n",
       "      <th></th>\n",
       "      <th>PassengerId</th>\n",
       "      <th>Pclass</th>\n",
       "      <th>Age</th>\n",
       "      <th>SibSp</th>\n",
       "      <th>Parch</th>\n",
       "      <th>Fare</th>\n",
       "      <th>Sex_female</th>\n",
       "      <th>Sex_male</th>\n",
       "      <th>Ticket_110152</th>\n",
       "      <th>Ticket_110413</th>\n",
       "      <th>...</th>\n",
       "      <th>Ticket_W./C. 6608</th>\n",
       "      <th>Ticket_W./C. 6609</th>\n",
       "      <th>Ticket_W.E.P. 5734</th>\n",
       "      <th>Ticket_W/C 14208</th>\n",
       "      <th>Ticket_WE/P 5735</th>\n",
       "      <th>Embarked_C</th>\n",
       "      <th>Embarked_Q</th>\n",
       "      <th>Embarked_S</th>\n",
       "      <th>Embarked_none</th>\n",
       "      <th>Survived</th>\n",
       "    </tr>\n",
       "  </thead>\n",
       "  <tbody>\n",
       "    <tr>\n",
       "      <th>0</th>\n",
       "      <td>1</td>\n",
       "      <td>3</td>\n",
       "      <td>22.0</td>\n",
       "      <td>1</td>\n",
       "      <td>0</td>\n",
       "      <td>7.2500</td>\n",
       "      <td>0</td>\n",
       "      <td>1</td>\n",
       "      <td>0</td>\n",
       "      <td>0</td>\n",
       "      <td>...</td>\n",
       "      <td>0</td>\n",
       "      <td>0</td>\n",
       "      <td>0</td>\n",
       "      <td>0</td>\n",
       "      <td>0</td>\n",
       "      <td>0</td>\n",
       "      <td>0</td>\n",
       "      <td>1</td>\n",
       "      <td>0</td>\n",
       "      <td>0</td>\n",
       "    </tr>\n",
       "    <tr>\n",
       "      <th>1</th>\n",
       "      <td>2</td>\n",
       "      <td>1</td>\n",
       "      <td>38.0</td>\n",
       "      <td>1</td>\n",
       "      <td>0</td>\n",
       "      <td>71.2833</td>\n",
       "      <td>1</td>\n",
       "      <td>0</td>\n",
       "      <td>0</td>\n",
       "      <td>0</td>\n",
       "      <td>...</td>\n",
       "      <td>0</td>\n",
       "      <td>0</td>\n",
       "      <td>0</td>\n",
       "      <td>0</td>\n",
       "      <td>0</td>\n",
       "      <td>1</td>\n",
       "      <td>0</td>\n",
       "      <td>0</td>\n",
       "      <td>0</td>\n",
       "      <td>1</td>\n",
       "    </tr>\n",
       "    <tr>\n",
       "      <th>2</th>\n",
       "      <td>3</td>\n",
       "      <td>3</td>\n",
       "      <td>26.0</td>\n",
       "      <td>0</td>\n",
       "      <td>0</td>\n",
       "      <td>7.9250</td>\n",
       "      <td>1</td>\n",
       "      <td>0</td>\n",
       "      <td>0</td>\n",
       "      <td>0</td>\n",
       "      <td>...</td>\n",
       "      <td>0</td>\n",
       "      <td>0</td>\n",
       "      <td>0</td>\n",
       "      <td>0</td>\n",
       "      <td>0</td>\n",
       "      <td>0</td>\n",
       "      <td>0</td>\n",
       "      <td>1</td>\n",
       "      <td>0</td>\n",
       "      <td>1</td>\n",
       "    </tr>\n",
       "    <tr>\n",
       "      <th>3</th>\n",
       "      <td>4</td>\n",
       "      <td>1</td>\n",
       "      <td>35.0</td>\n",
       "      <td>1</td>\n",
       "      <td>0</td>\n",
       "      <td>53.1000</td>\n",
       "      <td>1</td>\n",
       "      <td>0</td>\n",
       "      <td>0</td>\n",
       "      <td>0</td>\n",
       "      <td>...</td>\n",
       "      <td>0</td>\n",
       "      <td>0</td>\n",
       "      <td>0</td>\n",
       "      <td>0</td>\n",
       "      <td>0</td>\n",
       "      <td>0</td>\n",
       "      <td>0</td>\n",
       "      <td>1</td>\n",
       "      <td>0</td>\n",
       "      <td>1</td>\n",
       "    </tr>\n",
       "    <tr>\n",
       "      <th>4</th>\n",
       "      <td>5</td>\n",
       "      <td>3</td>\n",
       "      <td>35.0</td>\n",
       "      <td>0</td>\n",
       "      <td>0</td>\n",
       "      <td>8.0500</td>\n",
       "      <td>0</td>\n",
       "      <td>1</td>\n",
       "      <td>0</td>\n",
       "      <td>0</td>\n",
       "      <td>...</td>\n",
       "      <td>0</td>\n",
       "      <td>0</td>\n",
       "      <td>0</td>\n",
       "      <td>0</td>\n",
       "      <td>0</td>\n",
       "      <td>0</td>\n",
       "      <td>0</td>\n",
       "      <td>1</td>\n",
       "      <td>0</td>\n",
       "      <td>0</td>\n",
       "    </tr>\n",
       "  </tbody>\n",
       "</table>\n",
       "<p>5 rows × 942 columns</p>\n",
       "</div>"
      ],
      "text/plain": [
       "   PassengerId  Pclass   Age  SibSp  Parch     Fare  Sex_female  Sex_male  \\\n",
       "0            1       3  22.0      1      0   7.2500           0         1   \n",
       "1            2       1  38.0      1      0  71.2833           1         0   \n",
       "2            3       3  26.0      0      0   7.9250           1         0   \n",
       "3            4       1  35.0      1      0  53.1000           1         0   \n",
       "4            5       3  35.0      0      0   8.0500           0         1   \n",
       "\n",
       "   Ticket_110152  Ticket_110413  ...  Ticket_W./C. 6608  Ticket_W./C. 6609  \\\n",
       "0              0              0  ...                  0                  0   \n",
       "1              0              0  ...                  0                  0   \n",
       "2              0              0  ...                  0                  0   \n",
       "3              0              0  ...                  0                  0   \n",
       "4              0              0  ...                  0                  0   \n",
       "\n",
       "   Ticket_W.E.P. 5734  Ticket_W/C 14208  Ticket_WE/P 5735  Embarked_C  \\\n",
       "0                   0                 0                 0           0   \n",
       "1                   0                 0                 0           1   \n",
       "2                   0                 0                 0           0   \n",
       "3                   0                 0                 0           0   \n",
       "4                   0                 0                 0           0   \n",
       "\n",
       "   Embarked_Q  Embarked_S  Embarked_none  Survived  \n",
       "0           0           1              0         0  \n",
       "1           0           0              0         1  \n",
       "2           0           1              0         1  \n",
       "3           0           1              0         1  \n",
       "4           0           1              0         0  \n",
       "\n",
       "[5 rows x 942 columns]"
      ]
     },
     "execution_count": 17,
     "metadata": {},
     "output_type": "execute_result"
    }
   ],
   "source": [
    "cleaned = pd.concat([numeric_cols,categorical_cols],axis= 1)\n",
    "df = pd.concat([cleaned,Survived],axis = 1)\n",
    "df.head()"
   ]
  },
  {
   "cell_type": "markdown",
   "id": "55359a4b",
   "metadata": {
    "papermill": {
     "duration": 0.047533,
     "end_time": "2021-10-29T14:10:45.733331",
     "exception": false,
     "start_time": "2021-10-29T14:10:45.685798",
     "status": "completed"
    },
    "tags": []
   },
   "source": [
    "**Test Data as Dataframe and array**"
   ]
  },
  {
   "cell_type": "code",
   "execution_count": 18,
   "id": "2fc1743a",
   "metadata": {
    "execution": {
     "iopub.execute_input": "2021-10-29T14:10:45.833186Z",
     "iopub.status.busy": "2021-10-29T14:10:45.832566Z",
     "iopub.status.idle": "2021-10-29T14:10:45.859651Z",
     "shell.execute_reply": "2021-10-29T14:10:45.860153Z",
     "shell.execute_reply.started": "2021-10-29T14:09:17.369731Z"
    },
    "papermill": {
     "duration": 0.078526,
     "end_time": "2021-10-29T14:10:45.860312",
     "exception": false,
     "start_time": "2021-10-29T14:10:45.781786",
     "status": "completed"
    },
    "tags": []
   },
   "outputs": [
    {
     "data": {
      "text/html": [
       "<div>\n",
       "<style scoped>\n",
       "    .dataframe tbody tr th:only-of-type {\n",
       "        vertical-align: middle;\n",
       "    }\n",
       "\n",
       "    .dataframe tbody tr th {\n",
       "        vertical-align: top;\n",
       "    }\n",
       "\n",
       "    .dataframe thead th {\n",
       "        text-align: right;\n",
       "    }\n",
       "</style>\n",
       "<table border=\"1\" class=\"dataframe\">\n",
       "  <thead>\n",
       "    <tr style=\"text-align: right;\">\n",
       "      <th></th>\n",
       "      <th>PassengerId</th>\n",
       "      <th>Pclass</th>\n",
       "      <th>Age</th>\n",
       "      <th>SibSp</th>\n",
       "      <th>Parch</th>\n",
       "      <th>Fare</th>\n",
       "      <th>Sex_female</th>\n",
       "      <th>Sex_male</th>\n",
       "      <th>Ticket_110152</th>\n",
       "      <th>Ticket_110413</th>\n",
       "      <th>...</th>\n",
       "      <th>Ticket_W./C. 6607</th>\n",
       "      <th>Ticket_W./C. 6608</th>\n",
       "      <th>Ticket_W./C. 6609</th>\n",
       "      <th>Ticket_W.E.P. 5734</th>\n",
       "      <th>Ticket_W/C 14208</th>\n",
       "      <th>Ticket_WE/P 5735</th>\n",
       "      <th>Embarked_C</th>\n",
       "      <th>Embarked_Q</th>\n",
       "      <th>Embarked_S</th>\n",
       "      <th>Embarked_none</th>\n",
       "    </tr>\n",
       "  </thead>\n",
       "  <tbody>\n",
       "    <tr>\n",
       "      <th>0</th>\n",
       "      <td>892</td>\n",
       "      <td>3</td>\n",
       "      <td>34.500000</td>\n",
       "      <td>0</td>\n",
       "      <td>0</td>\n",
       "      <td>7.8292</td>\n",
       "      <td>0</td>\n",
       "      <td>1</td>\n",
       "      <td>0</td>\n",
       "      <td>0</td>\n",
       "      <td>...</td>\n",
       "      <td>0</td>\n",
       "      <td>0</td>\n",
       "      <td>0</td>\n",
       "      <td>0</td>\n",
       "      <td>0</td>\n",
       "      <td>0</td>\n",
       "      <td>0</td>\n",
       "      <td>1</td>\n",
       "      <td>0</td>\n",
       "      <td>0</td>\n",
       "    </tr>\n",
       "    <tr>\n",
       "      <th>1</th>\n",
       "      <td>893</td>\n",
       "      <td>3</td>\n",
       "      <td>47.000000</td>\n",
       "      <td>1</td>\n",
       "      <td>0</td>\n",
       "      <td>7.0000</td>\n",
       "      <td>1</td>\n",
       "      <td>0</td>\n",
       "      <td>0</td>\n",
       "      <td>0</td>\n",
       "      <td>...</td>\n",
       "      <td>0</td>\n",
       "      <td>0</td>\n",
       "      <td>0</td>\n",
       "      <td>0</td>\n",
       "      <td>0</td>\n",
       "      <td>0</td>\n",
       "      <td>0</td>\n",
       "      <td>0</td>\n",
       "      <td>1</td>\n",
       "      <td>0</td>\n",
       "    </tr>\n",
       "    <tr>\n",
       "      <th>2</th>\n",
       "      <td>894</td>\n",
       "      <td>2</td>\n",
       "      <td>62.000000</td>\n",
       "      <td>0</td>\n",
       "      <td>0</td>\n",
       "      <td>9.6875</td>\n",
       "      <td>0</td>\n",
       "      <td>1</td>\n",
       "      <td>0</td>\n",
       "      <td>0</td>\n",
       "      <td>...</td>\n",
       "      <td>0</td>\n",
       "      <td>0</td>\n",
       "      <td>0</td>\n",
       "      <td>0</td>\n",
       "      <td>0</td>\n",
       "      <td>0</td>\n",
       "      <td>0</td>\n",
       "      <td>1</td>\n",
       "      <td>0</td>\n",
       "      <td>0</td>\n",
       "    </tr>\n",
       "    <tr>\n",
       "      <th>3</th>\n",
       "      <td>895</td>\n",
       "      <td>3</td>\n",
       "      <td>27.000000</td>\n",
       "      <td>0</td>\n",
       "      <td>0</td>\n",
       "      <td>8.6625</td>\n",
       "      <td>0</td>\n",
       "      <td>1</td>\n",
       "      <td>0</td>\n",
       "      <td>0</td>\n",
       "      <td>...</td>\n",
       "      <td>0</td>\n",
       "      <td>0</td>\n",
       "      <td>0</td>\n",
       "      <td>0</td>\n",
       "      <td>0</td>\n",
       "      <td>0</td>\n",
       "      <td>0</td>\n",
       "      <td>0</td>\n",
       "      <td>1</td>\n",
       "      <td>0</td>\n",
       "    </tr>\n",
       "    <tr>\n",
       "      <th>4</th>\n",
       "      <td>896</td>\n",
       "      <td>3</td>\n",
       "      <td>22.000000</td>\n",
       "      <td>1</td>\n",
       "      <td>1</td>\n",
       "      <td>12.2875</td>\n",
       "      <td>1</td>\n",
       "      <td>0</td>\n",
       "      <td>0</td>\n",
       "      <td>0</td>\n",
       "      <td>...</td>\n",
       "      <td>0</td>\n",
       "      <td>0</td>\n",
       "      <td>0</td>\n",
       "      <td>0</td>\n",
       "      <td>0</td>\n",
       "      <td>0</td>\n",
       "      <td>0</td>\n",
       "      <td>0</td>\n",
       "      <td>1</td>\n",
       "      <td>0</td>\n",
       "    </tr>\n",
       "    <tr>\n",
       "      <th>...</th>\n",
       "      <td>...</td>\n",
       "      <td>...</td>\n",
       "      <td>...</td>\n",
       "      <td>...</td>\n",
       "      <td>...</td>\n",
       "      <td>...</td>\n",
       "      <td>...</td>\n",
       "      <td>...</td>\n",
       "      <td>...</td>\n",
       "      <td>...</td>\n",
       "      <td>...</td>\n",
       "      <td>...</td>\n",
       "      <td>...</td>\n",
       "      <td>...</td>\n",
       "      <td>...</td>\n",
       "      <td>...</td>\n",
       "      <td>...</td>\n",
       "      <td>...</td>\n",
       "      <td>...</td>\n",
       "      <td>...</td>\n",
       "      <td>...</td>\n",
       "    </tr>\n",
       "    <tr>\n",
       "      <th>413</th>\n",
       "      <td>1305</td>\n",
       "      <td>3</td>\n",
       "      <td>29.881138</td>\n",
       "      <td>0</td>\n",
       "      <td>0</td>\n",
       "      <td>8.0500</td>\n",
       "      <td>0</td>\n",
       "      <td>1</td>\n",
       "      <td>0</td>\n",
       "      <td>0</td>\n",
       "      <td>...</td>\n",
       "      <td>0</td>\n",
       "      <td>0</td>\n",
       "      <td>0</td>\n",
       "      <td>0</td>\n",
       "      <td>0</td>\n",
       "      <td>0</td>\n",
       "      <td>0</td>\n",
       "      <td>0</td>\n",
       "      <td>1</td>\n",
       "      <td>0</td>\n",
       "    </tr>\n",
       "    <tr>\n",
       "      <th>414</th>\n",
       "      <td>1306</td>\n",
       "      <td>1</td>\n",
       "      <td>39.000000</td>\n",
       "      <td>0</td>\n",
       "      <td>0</td>\n",
       "      <td>108.9000</td>\n",
       "      <td>1</td>\n",
       "      <td>0</td>\n",
       "      <td>0</td>\n",
       "      <td>0</td>\n",
       "      <td>...</td>\n",
       "      <td>0</td>\n",
       "      <td>0</td>\n",
       "      <td>0</td>\n",
       "      <td>0</td>\n",
       "      <td>0</td>\n",
       "      <td>0</td>\n",
       "      <td>1</td>\n",
       "      <td>0</td>\n",
       "      <td>0</td>\n",
       "      <td>0</td>\n",
       "    </tr>\n",
       "    <tr>\n",
       "      <th>415</th>\n",
       "      <td>1307</td>\n",
       "      <td>3</td>\n",
       "      <td>38.500000</td>\n",
       "      <td>0</td>\n",
       "      <td>0</td>\n",
       "      <td>7.2500</td>\n",
       "      <td>0</td>\n",
       "      <td>1</td>\n",
       "      <td>0</td>\n",
       "      <td>0</td>\n",
       "      <td>...</td>\n",
       "      <td>0</td>\n",
       "      <td>0</td>\n",
       "      <td>0</td>\n",
       "      <td>0</td>\n",
       "      <td>0</td>\n",
       "      <td>0</td>\n",
       "      <td>0</td>\n",
       "      <td>0</td>\n",
       "      <td>1</td>\n",
       "      <td>0</td>\n",
       "    </tr>\n",
       "    <tr>\n",
       "      <th>416</th>\n",
       "      <td>1308</td>\n",
       "      <td>3</td>\n",
       "      <td>29.881138</td>\n",
       "      <td>0</td>\n",
       "      <td>0</td>\n",
       "      <td>8.0500</td>\n",
       "      <td>0</td>\n",
       "      <td>1</td>\n",
       "      <td>0</td>\n",
       "      <td>0</td>\n",
       "      <td>...</td>\n",
       "      <td>0</td>\n",
       "      <td>0</td>\n",
       "      <td>0</td>\n",
       "      <td>0</td>\n",
       "      <td>0</td>\n",
       "      <td>0</td>\n",
       "      <td>0</td>\n",
       "      <td>0</td>\n",
       "      <td>1</td>\n",
       "      <td>0</td>\n",
       "    </tr>\n",
       "    <tr>\n",
       "      <th>417</th>\n",
       "      <td>1309</td>\n",
       "      <td>3</td>\n",
       "      <td>29.881138</td>\n",
       "      <td>1</td>\n",
       "      <td>1</td>\n",
       "      <td>22.3583</td>\n",
       "      <td>0</td>\n",
       "      <td>1</td>\n",
       "      <td>0</td>\n",
       "      <td>0</td>\n",
       "      <td>...</td>\n",
       "      <td>0</td>\n",
       "      <td>0</td>\n",
       "      <td>0</td>\n",
       "      <td>0</td>\n",
       "      <td>0</td>\n",
       "      <td>0</td>\n",
       "      <td>1</td>\n",
       "      <td>0</td>\n",
       "      <td>0</td>\n",
       "      <td>0</td>\n",
       "    </tr>\n",
       "  </tbody>\n",
       "</table>\n",
       "<p>418 rows × 941 columns</p>\n",
       "</div>"
      ],
      "text/plain": [
       "     PassengerId  Pclass        Age  SibSp  Parch      Fare  Sex_female  \\\n",
       "0            892       3  34.500000      0      0    7.8292           0   \n",
       "1            893       3  47.000000      1      0    7.0000           1   \n",
       "2            894       2  62.000000      0      0    9.6875           0   \n",
       "3            895       3  27.000000      0      0    8.6625           0   \n",
       "4            896       3  22.000000      1      1   12.2875           1   \n",
       "..           ...     ...        ...    ...    ...       ...         ...   \n",
       "413         1305       3  29.881138      0      0    8.0500           0   \n",
       "414         1306       1  39.000000      0      0  108.9000           1   \n",
       "415         1307       3  38.500000      0      0    7.2500           0   \n",
       "416         1308       3  29.881138      0      0    8.0500           0   \n",
       "417         1309       3  29.881138      1      1   22.3583           0   \n",
       "\n",
       "     Sex_male  Ticket_110152  Ticket_110413  ...  Ticket_W./C. 6607  \\\n",
       "0           1              0              0  ...                  0   \n",
       "1           0              0              0  ...                  0   \n",
       "2           1              0              0  ...                  0   \n",
       "3           1              0              0  ...                  0   \n",
       "4           0              0              0  ...                  0   \n",
       "..        ...            ...            ...  ...                ...   \n",
       "413         1              0              0  ...                  0   \n",
       "414         0              0              0  ...                  0   \n",
       "415         1              0              0  ...                  0   \n",
       "416         1              0              0  ...                  0   \n",
       "417         1              0              0  ...                  0   \n",
       "\n",
       "     Ticket_W./C. 6608  Ticket_W./C. 6609  Ticket_W.E.P. 5734  \\\n",
       "0                    0                  0                   0   \n",
       "1                    0                  0                   0   \n",
       "2                    0                  0                   0   \n",
       "3                    0                  0                   0   \n",
       "4                    0                  0                   0   \n",
       "..                 ...                ...                 ...   \n",
       "413                  0                  0                   0   \n",
       "414                  0                  0                   0   \n",
       "415                  0                  0                   0   \n",
       "416                  0                  0                   0   \n",
       "417                  0                  0                   0   \n",
       "\n",
       "     Ticket_W/C 14208  Ticket_WE/P 5735  Embarked_C  Embarked_Q  Embarked_S  \\\n",
       "0                   0                 0           0           1           0   \n",
       "1                   0                 0           0           0           1   \n",
       "2                   0                 0           0           1           0   \n",
       "3                   0                 0           0           0           1   \n",
       "4                   0                 0           0           0           1   \n",
       "..                ...               ...         ...         ...         ...   \n",
       "413                 0                 0           0           0           1   \n",
       "414                 0                 0           1           0           0   \n",
       "415                 0                 0           0           0           1   \n",
       "416                 0                 0           0           0           1   \n",
       "417                 0                 0           1           0           0   \n",
       "\n",
       "     Embarked_none  \n",
       "0                0  \n",
       "1                0  \n",
       "2                0  \n",
       "3                0  \n",
       "4                0  \n",
       "..             ...  \n",
       "413              0  \n",
       "414              0  \n",
       "415              0  \n",
       "416              0  \n",
       "417              0  \n",
       "\n",
       "[418 rows x 941 columns]"
      ]
     },
     "execution_count": 18,
     "metadata": {},
     "output_type": "execute_result"
    }
   ],
   "source": [
    "test_dfn = df.iloc[ 891 : ,:-1]\n",
    "test_df = df.iloc[ 891 : ,:-1].values\n",
    "test_dfn"
   ]
  },
  {
   "cell_type": "code",
   "execution_count": 19,
   "id": "85d0fbd2",
   "metadata": {
    "execution": {
     "iopub.execute_input": "2021-10-29T14:10:45.960598Z",
     "iopub.status.busy": "2021-10-29T14:10:45.959966Z",
     "iopub.status.idle": "2021-10-29T14:10:45.964938Z",
     "shell.execute_reply": "2021-10-29T14:10:45.965522Z",
     "shell.execute_reply.started": "2021-10-29T14:09:17.401276Z"
    },
    "papermill": {
     "duration": 0.05736,
     "end_time": "2021-10-29T14:10:45.965706",
     "exception": false,
     "start_time": "2021-10-29T14:10:45.908346",
     "status": "completed"
    },
    "tags": []
   },
   "outputs": [
    {
     "data": {
      "text/plain": [
       "array([[8.92000000e+02, 3.00000000e+00, 3.45000000e+01, ...,\n",
       "        1.00000000e+00, 0.00000000e+00, 0.00000000e+00],\n",
       "       [8.93000000e+02, 3.00000000e+00, 4.70000000e+01, ...,\n",
       "        0.00000000e+00, 1.00000000e+00, 0.00000000e+00],\n",
       "       [8.94000000e+02, 2.00000000e+00, 6.20000000e+01, ...,\n",
       "        1.00000000e+00, 0.00000000e+00, 0.00000000e+00],\n",
       "       ...,\n",
       "       [1.30700000e+03, 3.00000000e+00, 3.85000000e+01, ...,\n",
       "        0.00000000e+00, 1.00000000e+00, 0.00000000e+00],\n",
       "       [1.30800000e+03, 3.00000000e+00, 2.98811377e+01, ...,\n",
       "        0.00000000e+00, 1.00000000e+00, 0.00000000e+00],\n",
       "       [1.30900000e+03, 3.00000000e+00, 2.98811377e+01, ...,\n",
       "        0.00000000e+00, 0.00000000e+00, 0.00000000e+00]])"
      ]
     },
     "execution_count": 19,
     "metadata": {},
     "output_type": "execute_result"
    }
   ],
   "source": [
    "test_df"
   ]
  },
  {
   "cell_type": "markdown",
   "id": "54e03677",
   "metadata": {
    "papermill": {
     "duration": 0.048135,
     "end_time": "2021-10-29T14:10:46.062542",
     "exception": false,
     "start_time": "2021-10-29T14:10:46.014407",
     "status": "completed"
    },
    "tags": []
   },
   "source": [
    "**X ,y Split**"
   ]
  },
  {
   "cell_type": "code",
   "execution_count": 20,
   "id": "ba2526b5",
   "metadata": {
    "execution": {
     "iopub.execute_input": "2021-10-29T14:10:46.166145Z",
     "iopub.status.busy": "2021-10-29T14:10:46.165528Z",
     "iopub.status.idle": "2021-10-29T14:10:46.178777Z",
     "shell.execute_reply": "2021-10-29T14:10:46.179310Z",
     "shell.execute_reply.started": "2021-10-29T14:09:17.408297Z"
    },
    "papermill": {
     "duration": 0.067774,
     "end_time": "2021-10-29T14:10:46.179476",
     "exception": false,
     "start_time": "2021-10-29T14:10:46.111702",
     "status": "completed"
    },
    "tags": []
   },
   "outputs": [],
   "source": [
    "X = df.iloc[:,:-1].values\n",
    "y = df['Survived'].values"
   ]
  },
  {
   "cell_type": "markdown",
   "id": "ce908791",
   "metadata": {
    "papermill": {
     "duration": 0.048951,
     "end_time": "2021-10-29T14:10:46.277816",
     "exception": false,
     "start_time": "2021-10-29T14:10:46.228865",
     "status": "completed"
    },
    "tags": []
   },
   "source": [
    "# **Feature Scaling**"
   ]
  },
  {
   "cell_type": "code",
   "execution_count": 21,
   "id": "4b74d043",
   "metadata": {
    "execution": {
     "iopub.execute_input": "2021-10-29T14:10:46.379884Z",
     "iopub.status.busy": "2021-10-29T14:10:46.379313Z",
     "iopub.status.idle": "2021-10-29T14:10:46.398172Z",
     "shell.execute_reply": "2021-10-29T14:10:46.398672Z",
     "shell.execute_reply.started": "2021-10-29T14:09:17.429340Z"
    },
    "papermill": {
     "duration": 0.071628,
     "end_time": "2021-10-29T14:10:46.398848",
     "exception": false,
     "start_time": "2021-10-29T14:10:46.327220",
     "status": "completed"
    },
    "tags": []
   },
   "outputs": [],
   "source": [
    "scl = MinMaxScaler(feature_range = (0, 1))\n",
    "X = scl.fit_transform(X) \n",
    "test_df = scl.fit_transform(test_df) "
   ]
  },
  {
   "cell_type": "markdown",
   "id": "5fc2c866",
   "metadata": {
    "papermill": {
     "duration": 0.048815,
     "end_time": "2021-10-29T14:10:46.495942",
     "exception": false,
     "start_time": "2021-10-29T14:10:46.447127",
     "status": "completed"
    },
    "tags": []
   },
   "source": [
    "# **Train & Test Split**"
   ]
  },
  {
   "cell_type": "code",
   "execution_count": 22,
   "id": "289f6913",
   "metadata": {
    "execution": {
     "iopub.execute_input": "2021-10-29T14:10:46.597308Z",
     "iopub.status.busy": "2021-10-29T14:10:46.596637Z",
     "iopub.status.idle": "2021-10-29T14:10:46.612497Z",
     "shell.execute_reply": "2021-10-29T14:10:46.613004Z",
     "shell.execute_reply.started": "2021-10-29T14:09:17.450847Z"
    },
    "papermill": {
     "duration": 0.068847,
     "end_time": "2021-10-29T14:10:46.613195",
     "exception": false,
     "start_time": "2021-10-29T14:10:46.544348",
     "status": "completed"
    },
    "tags": []
   },
   "outputs": [],
   "source": [
    "X_train ,X_test ,y_train ,y_test = train_test_split(X, y , test_size = 0.3, random_state = 44)"
   ]
  },
  {
   "cell_type": "markdown",
   "id": "4a8020b4",
   "metadata": {
    "papermill": {
     "duration": 0.04972,
     "end_time": "2021-10-29T14:10:46.713428",
     "exception": false,
     "start_time": "2021-10-29T14:10:46.663708",
     "status": "completed"
    },
    "tags": []
   },
   "source": [
    "# **Machine Learning Models**"
   ]
  },
  {
   "cell_type": "markdown",
   "id": "a83a0974",
   "metadata": {
    "papermill": {
     "duration": 0.049223,
     "end_time": "2021-10-29T14:10:46.811994",
     "exception": false,
     "start_time": "2021-10-29T14:10:46.762771",
     "status": "completed"
    },
    "tags": []
   },
   "source": [
    "**Logistic Regression**"
   ]
  },
  {
   "cell_type": "code",
   "execution_count": 23,
   "id": "e5933d2b",
   "metadata": {
    "execution": {
     "iopub.execute_input": "2021-10-29T14:10:46.913082Z",
     "iopub.status.busy": "2021-10-29T14:10:46.912432Z",
     "iopub.status.idle": "2021-10-29T14:10:46.915739Z",
     "shell.execute_reply": "2021-10-29T14:10:46.916327Z",
     "shell.execute_reply.started": "2021-10-29T14:09:17.464213Z"
    },
    "papermill": {
     "duration": 0.055196,
     "end_time": "2021-10-29T14:10:46.916489",
     "exception": false,
     "start_time": "2021-10-29T14:10:46.861293",
     "status": "completed"
    },
    "tags": []
   },
   "outputs": [],
   "source": [
    "#lgm = LogisticRegression()\n",
    "#lgm = lgm.fit(X_train,y_train)\n",
    "#y_tpred = lgm.predict(X_train)\n",
    "#y_pred = lgm.predict(X_test)\n",
    "# print('train score :',accuracy_score(y_train ,y_tpred ))\n",
    "#print('test score :',accuracy_score(y_test , y_pred))\n",
    "# print('con matrix :',confusion_matrix(y_test, y_pred))\n",
    "#print('report :',classification_report(y_test, y_pred ))\n",
    "                                                                                      # SCORE : 0.85"
   ]
  },
  {
   "cell_type": "markdown",
   "id": "76404583",
   "metadata": {
    "papermill": {
     "duration": 0.047903,
     "end_time": "2021-10-29T14:10:47.012875",
     "exception": false,
     "start_time": "2021-10-29T14:10:46.964972",
     "status": "completed"
    },
    "tags": []
   },
   "source": [
    "**Random Forest Classifier**"
   ]
  },
  {
   "cell_type": "code",
   "execution_count": 24,
   "id": "2b309eaf",
   "metadata": {
    "execution": {
     "iopub.execute_input": "2021-10-29T14:10:47.115635Z",
     "iopub.status.busy": "2021-10-29T14:10:47.114985Z",
     "iopub.status.idle": "2021-10-29T14:10:47.118327Z",
     "shell.execute_reply": "2021-10-29T14:10:47.118810Z",
     "shell.execute_reply.started": "2021-10-29T14:09:17.471370Z"
    },
    "papermill": {
     "duration": 0.05515,
     "end_time": "2021-10-29T14:10:47.118969",
     "exception": false,
     "start_time": "2021-10-29T14:10:47.063819",
     "status": "completed"
    },
    "tags": []
   },
   "outputs": [],
   "source": [
    "# rnc = RandomForestClassifier(n_estimators=100, max_depth=4,random_state=0)\n",
    "# rnc = rnc.fit(X_train,y_train)\n",
    "# y_tpred = rnc.predict(X_train)\n",
    "# y_pred = rnc.predict(X_test)\n",
    "# print('train score :',accuracy_score(y_train ,y_tpred ))\n",
    "# print('test score :',accuracy_score(y_test , y_pred))\n",
    "# print('con matrix :',confusion_matrix(y_test, y_pred))\n",
    "# print('report :',classification_report(y_test, y_pred ))\n",
    "                                                                                     # SCORE : 0.87"
   ]
  },
  {
   "cell_type": "markdown",
   "id": "33b851f8",
   "metadata": {
    "papermill": {
     "duration": 0.049257,
     "end_time": "2021-10-29T14:10:47.218894",
     "exception": false,
     "start_time": "2021-10-29T14:10:47.169637",
     "status": "completed"
    },
    "tags": []
   },
   "source": [
    "**Gradient Boosting Classifier**"
   ]
  },
  {
   "cell_type": "code",
   "execution_count": 25,
   "id": "8a0bbf92",
   "metadata": {
    "execution": {
     "iopub.execute_input": "2021-10-29T14:10:47.321745Z",
     "iopub.status.busy": "2021-10-29T14:10:47.321155Z",
     "iopub.status.idle": "2021-10-29T14:10:47.324360Z",
     "shell.execute_reply": "2021-10-29T14:10:47.324923Z",
     "shell.execute_reply.started": "2021-10-29T14:09:17.482930Z"
    },
    "papermill": {
     "duration": 0.057005,
     "end_time": "2021-10-29T14:10:47.325100",
     "exception": false,
     "start_time": "2021-10-29T14:10:47.268095",
     "status": "completed"
    },
    "tags": []
   },
   "outputs": [],
   "source": [
    "# gbc = GradientBoostingClassifier(n_estimators=100, learning_rate=0.5,max_depth=3, random_state=140)\n",
    "# gbc = gbc.fit(X_train,y_train)\n",
    "# y_tpred = gbc.predict(X_train)\n",
    "# y_pred = gbc.predict(X_test)\n",
    "# print('train score :',accuracy_score(y_train ,y_tpred ))\n",
    "# print('test score :',accuracy_score(y_test , y_pred))\n",
    "# print('con matrix :',confusion_matrix(y_test, y_pred))\n",
    "# print('report :',classification_report(y_test, y_pred ))\n",
    "                                                                                   # SCORE : 0.85"
   ]
  },
  {
   "cell_type": "markdown",
   "id": "78068fc1",
   "metadata": {
    "papermill": {
     "duration": 0.048136,
     "end_time": "2021-10-29T14:10:47.421382",
     "exception": false,
     "start_time": "2021-10-29T14:10:47.373246",
     "status": "completed"
    },
    "tags": []
   },
   "source": [
    "**SVC**"
   ]
  },
  {
   "cell_type": "code",
   "execution_count": 26,
   "id": "b163886d",
   "metadata": {
    "execution": {
     "iopub.execute_input": "2021-10-29T14:10:47.520862Z",
     "iopub.status.busy": "2021-10-29T14:10:47.520286Z",
     "iopub.status.idle": "2021-10-29T14:10:47.523261Z",
     "shell.execute_reply": "2021-10-29T14:10:47.523807Z",
     "shell.execute_reply.started": "2021-10-29T14:09:17.497219Z"
    },
    "papermill": {
     "duration": 0.053435,
     "end_time": "2021-10-29T14:10:47.523965",
     "exception": false,
     "start_time": "2021-10-29T14:10:47.470530",
     "status": "completed"
    },
    "tags": []
   },
   "outputs": [],
   "source": [
    "# svc = SVC()\n",
    "# svc = svc.fit(X_train,y_train)\n",
    "# y_tpred = svc.predict(X_train)\n",
    "# y_pred = svc.predict(X_test)\n",
    "# print('train score :',accuracy_score(y_train ,y_tpred))\n",
    "# print('test score :',accuracy_score(y_test , y_pred))\n",
    "# print('con matrix :',confusion_matrix(y_test, y_pred))\n",
    "# print('report :',classification_report(y_test, y_pred ))\n",
    "                                                                                   # SCORE : 0.86"
   ]
  },
  {
   "cell_type": "markdown",
   "id": "e453c43e",
   "metadata": {
    "papermill": {
     "duration": 0.047635,
     "end_time": "2021-10-29T14:10:47.621579",
     "exception": false,
     "start_time": "2021-10-29T14:10:47.573944",
     "status": "completed"
    },
    "tags": []
   },
   "source": [
    "# **Voting Classifier**"
   ]
  },
  {
   "cell_type": "code",
   "execution_count": 27,
   "id": "fe29529f",
   "metadata": {
    "execution": {
     "iopub.execute_input": "2021-10-29T14:10:47.720192Z",
     "iopub.status.busy": "2021-10-29T14:10:47.719575Z",
     "iopub.status.idle": "2021-10-29T14:10:47.722408Z",
     "shell.execute_reply": "2021-10-29T14:10:47.722914Z",
     "shell.execute_reply.started": "2021-10-29T14:09:17.510445Z"
    },
    "papermill": {
     "duration": 0.053618,
     "end_time": "2021-10-29T14:10:47.723095",
     "exception": false,
     "start_time": "2021-10-29T14:10:47.669477",
     "status": "completed"
    },
    "tags": []
   },
   "outputs": [],
   "source": [
    "#v1 = LogisticRegression(solver='lbfgs', multi_class='multinomial',random_state=1 , C = 0.5 , tol = 0.001)\n",
    "#v2 = RandomForestClassifier(n_estimators=100, max_depth= 5,random_state=144)\n",
    "#v3 = SVC()\n",
    "#eclf = VotingClassifier(estimators=[('lr', v1), ('rf', v2), ('gnb', v3)],voting='hard')\n",
    "\n",
    "#for clf, label in zip([v1, v2, v3, eclf], ['Logistic Regression', 'Random Forest', 'SVC ', 'Ensemble ']): \n",
    " #   scores = cross_val_score(clf, X, y, cv=5, scoring='accuracy')\n",
    "  #  print(\"Accuracy: %0.2f (+/- %0.2f) [%s]\" % (scores.mean(), scores.std(), label))"
   ]
  },
  {
   "cell_type": "code",
   "execution_count": 28,
   "id": "321599b5",
   "metadata": {
    "execution": {
     "iopub.execute_input": "2021-10-29T14:10:47.822344Z",
     "iopub.status.busy": "2021-10-29T14:10:47.821727Z",
     "iopub.status.idle": "2021-10-29T14:10:50.270217Z",
     "shell.execute_reply": "2021-10-29T14:10:50.269658Z",
     "shell.execute_reply.started": "2021-10-29T14:09:17.521311Z"
    },
    "papermill": {
     "duration": 2.499675,
     "end_time": "2021-10-29T14:10:50.270340",
     "exception": false,
     "start_time": "2021-10-29T14:10:47.770665",
     "status": "completed"
    },
    "tags": []
   },
   "outputs": [
    {
     "name": "stdout",
     "output_type": "stream",
     "text": [
      "train score : 0.8766375545851528\n",
      "test score : 0.8804071246819338\n",
      "con matrix : [[229  15]\n",
      " [ 32 117]]\n",
      "report :               precision    recall  f1-score   support\n",
      "\n",
      "           0       0.88      0.94      0.91       244\n",
      "           1       0.89      0.79      0.83       149\n",
      "\n",
      "    accuracy                           0.88       393\n",
      "   macro avg       0.88      0.86      0.87       393\n",
      "weighted avg       0.88      0.88      0.88       393\n",
      "\n",
      "Confusion Matrix AxesSubplot(0.125,0.125;0.62x0.755)\n"
     ]
    },
    {
     "data": {
      "image/png": "[encoded data removed]",
      "text/plain": [
       "<Figure size 432x288 with 2 Axes>"
      ]
     },
     "metadata": {},
     "output_type": "display_data"
    }
   ],
   "source": [
    "svc = SVC()\n",
    "svc = svc.fit(X_train,y_train)\n",
    "y_train_pred = svc.predict(X_train)\n",
    "y_test_pred = svc.predict(X_test)\n",
    "print('train score :',accuracy_score(y_train ,y_train_pred ))\n",
    "print('test score :',accuracy_score(y_test , y_test_pred))\n",
    "print('con matrix :',confusion_matrix(y_test, y_test_pred))\n",
    "print('report :',classification_report(y_test, y_test_pred ))\n",
    "con = confusion_matrix(y_test,y_test_pred)\n",
    "hmap =sns.heatmap(con,annot=True,fmt=\"d\")\n",
    "print ('Confusion Matrix',hmap)"
   ]
  },
  {
   "cell_type": "code",
   "execution_count": 29,
   "id": "b10423dd",
   "metadata": {
    "execution": {
     "iopub.execute_input": "2021-10-29T14:10:50.375662Z",
     "iopub.status.busy": "2021-10-29T14:10:50.375071Z",
     "iopub.status.idle": "2021-10-29T14:10:50.681488Z",
     "shell.execute_reply": "2021-10-29T14:10:50.680880Z",
     "shell.execute_reply.started": "2021-10-29T14:09:20.143122Z"
    },
    "papermill": {
     "duration": 0.362418,
     "end_time": "2021-10-29T14:10:50.681646",
     "exception": false,
     "start_time": "2021-10-29T14:10:50.319228",
     "status": "completed"
    },
    "tags": []
   },
   "outputs": [
    {
     "name": "stdout",
     "output_type": "stream",
     "text": [
      "Classification Report AxesSubplot(0.125,0.125;0.62x0.755)\n"
     ]
    },
    {
     "data": {
      "image/png": "[encoded data removed]",
      "text/plain": [
       "<Figure size 432x288 with 2 Axes>"
      ]
     },
     "metadata": {},
     "output_type": "display_data"
    }
   ],
   "source": [
    "labels = np.arange(2)\n",
    "clf_report = classification_report(y_test,y_test_pred,labels=labels,target_names=('died','survived'), output_dict=True)\n",
    "hmap1 = sns.heatmap(pd.DataFrame(clf_report).iloc[:-1, :].T, annot=True)\n",
    "print ('Classification Report',hmap1)"
   ]
  },
  {
   "cell_type": "markdown",
   "id": "8443d403",
   "metadata": {
    "papermill": {
     "duration": 0.051611,
     "end_time": "2021-10-29T14:10:50.791146",
     "exception": false,
     "start_time": "2021-10-29T14:10:50.739535",
     "status": "completed"
    },
    "tags": []
   },
   "source": [
    "# **Submission**"
   ]
  },
  {
   "cell_type": "code",
   "execution_count": 30,
   "id": "2a19ba30",
   "metadata": {
    "execution": {
     "iopub.execute_input": "2021-10-29T14:10:50.894502Z",
     "iopub.status.busy": "2021-10-29T14:10:50.893544Z",
     "iopub.status.idle": "2021-10-29T14:10:51.274585Z",
     "shell.execute_reply": "2021-10-29T14:10:51.275136Z",
     "shell.execute_reply.started": "2021-10-29T14:09:20.493224Z"
    },
    "papermill": {
     "duration": 0.433886,
     "end_time": "2021-10-29T14:10:51.275314",
     "exception": false,
     "start_time": "2021-10-29T14:10:50.841428",
     "status": "completed"
    },
    "tags": []
   },
   "outputs": [],
   "source": [
    "y_pred = svc.predict(test_df)\n",
    "submission = pd.DataFrame({ 'PassengerId': test_dfn['PassengerId'],\n",
    "                            'Survived': y_pred })\n",
    "submission.to_csv(\"submission.csv\", index=False)"
   ]
  },
  {
   "cell_type": "code",
   "execution_count": 31,
   "id": "5ae89858",
   "metadata": {
    "execution": {
     "iopub.execute_input": "2021-10-29T14:10:51.381540Z",
     "iopub.status.busy": "2021-10-29T14:10:51.378492Z",
     "iopub.status.idle": "2021-10-29T14:10:51.386673Z",
     "shell.execute_reply": "2021-10-29T14:10:51.387212Z",
     "shell.execute_reply.started": "2021-10-29T14:09:20.898926Z"
    },
    "papermill": {
     "duration": 0.061698,
     "end_time": "2021-10-29T14:10:51.387361",
     "exception": false,
     "start_time": "2021-10-29T14:10:51.325663",
     "status": "completed"
    },
    "tags": []
   },
   "outputs": [
    {
     "data": {
      "text/html": [
       "<div>\n",
       "<style scoped>\n",
       "    .dataframe tbody tr th:only-of-type {\n",
       "        vertical-align: middle;\n",
       "    }\n",
       "\n",
       "    .dataframe tbody tr th {\n",
       "        vertical-align: top;\n",
       "    }\n",
       "\n",
       "    .dataframe thead th {\n",
       "        text-align: right;\n",
       "    }\n",
       "</style>\n",
       "<table border=\"1\" class=\"dataframe\">\n",
       "  <thead>\n",
       "    <tr style=\"text-align: right;\">\n",
       "      <th></th>\n",
       "      <th>PassengerId</th>\n",
       "      <th>Survived</th>\n",
       "    </tr>\n",
       "  </thead>\n",
       "  <tbody>\n",
       "    <tr>\n",
       "      <th>0</th>\n",
       "      <td>892</td>\n",
       "      <td>0</td>\n",
       "    </tr>\n",
       "    <tr>\n",
       "      <th>1</th>\n",
       "      <td>893</td>\n",
       "      <td>1</td>\n",
       "    </tr>\n",
       "    <tr>\n",
       "      <th>2</th>\n",
       "      <td>894</td>\n",
       "      <td>0</td>\n",
       "    </tr>\n",
       "    <tr>\n",
       "      <th>3</th>\n",
       "      <td>895</td>\n",
       "      <td>0</td>\n",
       "    </tr>\n",
       "    <tr>\n",
       "      <th>4</th>\n",
       "      <td>896</td>\n",
       "      <td>1</td>\n",
       "    </tr>\n",
       "  </tbody>\n",
       "</table>\n",
       "</div>"
      ],
      "text/plain": [
       "   PassengerId  Survived\n",
       "0          892         0\n",
       "1          893         1\n",
       "2          894         0\n",
       "3          895         0\n",
       "4          896         1"
      ]
     },
     "execution_count": 31,
     "metadata": {},
     "output_type": "execute_result"
    }
   ],
   "source": [
    "submission.head()"
   ]
  },
  {
   "cell_type": "code",
   "execution_count": null,
   "id": "c42b8555",
   "metadata": {
    "papermill": {
     "duration": 0.050497,
     "end_time": "2021-10-29T14:10:51.488196",
     "exception": false,
     "start_time": "2021-10-29T14:10:51.437699",
     "status": "completed"
    },
    "tags": []
   },
   "outputs": [],
   "source": []
  }
 ],
 "metadata": {
  "kernelspec": {
   "display_name": "Python 3",
   "language": "python",
   "name": "python3"
  },
  "language_info": {
   "codemirror_mode": {
    "name": "ipython",
    "version": 3
   },
   "file_extension": ".py",
   "mimetype": "text/x-python",
   "name": "python",
   "nbconvert_exporter": "python",
   "pygments_lexer": "ipython3",
   "version": "3.7.10"
  },
  "papermill": {
   "default_parameters": {},
   "duration": 22.760332,
   "end_time": "2021-10-29T14:10:52.247378",
   "environment_variables": {},
   "exception": null,
   "input_path": "__notebook__.ipynb",
   "output_path": "__notebook__.ipynb",
   "parameters": {},
   "start_time": "2021-10-29T14:10:29.487046",
   "version": "2.3.3"
  }
 },
 "nbformat": 4,
 "nbformat_minor": 5
}
