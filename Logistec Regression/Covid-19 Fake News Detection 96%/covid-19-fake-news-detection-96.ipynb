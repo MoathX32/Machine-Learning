{
 "cells": [
  {
   "cell_type": "markdown",
   "id": "2860845c",
   "metadata": {
    "papermill": {
     "duration": 0.022932,
     "end_time": "2021-10-25T19:08:10.610775",
     "exception": false,
     "start_time": "2021-10-25T19:08:10.587843",
     "status": "completed"
    },
    "tags": []
   },
   "source": [
    "# **Loading Libraries And Data**"
   ]
  },
  {
   "cell_type": "code",
   "execution_count": 1,
   "id": "4d1bafa8",
   "metadata": {
    "_cell_guid": "b1076dfc-b9ad-4769-8c92-a6c4dae69d19",
    "_uuid": "8f2839f25d086af736a60e9eeb907d3b93b6e0e5",
    "execution": {
     "iopub.execute_input": "2021-10-25T19:08:10.660412Z",
     "iopub.status.busy": "2021-10-25T19:08:10.659178Z",
     "iopub.status.idle": "2021-10-25T19:08:12.546168Z",
     "shell.execute_reply": "2021-10-25T19:08:12.545355Z",
     "shell.execute_reply.started": "2021-10-25T19:06:38.696093Z"
    },
    "papermill": {
     "duration": 1.911282,
     "end_time": "2021-10-25T19:08:12.546361",
     "exception": false,
     "start_time": "2021-10-25T19:08:10.635079",
     "status": "completed"
    },
    "tags": []
   },
   "outputs": [],
   "source": [
    "'''import my libraries '''\n",
    "import numpy as np\n",
    "import pandas as pd\n",
    "import seaborn as sns\n",
    "import re \n",
    "from nltk.corpus import stopwords \n",
    "from nltk.stem.porter import PorterStemmer\n",
    "from nltk.stem import WordNetLemmatizer\n",
    "from sklearn.feature_extraction.text import TfidfVectorizer\n",
    "from sklearn.model_selection import train_test_split\n",
    "from sklearn.metrics import accuracy_score\n",
    "from sklearn.metrics import confusion_matrix\n",
    "from sklearn.metrics import classification_report\n",
    "from sklearn.linear_model import SGDClassifier\n",
    "import warnings \n",
    "warnings.filterwarnings('ignore')"
   ]
  },
  {
   "cell_type": "code",
   "execution_count": 2,
   "id": "35d99ede",
   "metadata": {
    "execution": {
     "iopub.execute_input": "2021-10-25T19:08:12.594213Z",
     "iopub.status.busy": "2021-10-25T19:08:12.593362Z",
     "iopub.status.idle": "2021-10-25T19:08:12.668785Z",
     "shell.execute_reply": "2021-10-25T19:08:12.669353Z",
     "shell.execute_reply.started": "2021-10-25T19:06:38.707151Z"
    },
    "papermill": {
     "duration": 0.101848,
     "end_time": "2021-10-25T19:08:12.669554",
     "exception": false,
     "start_time": "2021-10-25T19:08:12.567706",
     "status": "completed"
    },
    "tags": []
   },
   "outputs": [
    {
     "data": {
      "text/html": [
       "<div>\n",
       "<style scoped>\n",
       "    .dataframe tbody tr th:only-of-type {\n",
       "        vertical-align: middle;\n",
       "    }\n",
       "\n",
       "    .dataframe tbody tr th {\n",
       "        vertical-align: top;\n",
       "    }\n",
       "\n",
       "    .dataframe thead th {\n",
       "        text-align: right;\n",
       "    }\n",
       "</style>\n",
       "<table border=\"1\" class=\"dataframe\">\n",
       "  <thead>\n",
       "    <tr style=\"text-align: right;\">\n",
       "      <th></th>\n",
       "      <th>headlines</th>\n",
       "      <th>outcome</th>\n",
       "    </tr>\n",
       "  </thead>\n",
       "  <tbody>\n",
       "    <tr>\n",
       "      <th>0</th>\n",
       "      <td>A post claims compulsory vacination violates t...</td>\n",
       "      <td>0</td>\n",
       "    </tr>\n",
       "    <tr>\n",
       "      <th>1</th>\n",
       "      <td>A photo claims that this person is a doctor wh...</td>\n",
       "      <td>0</td>\n",
       "    </tr>\n",
       "    <tr>\n",
       "      <th>2</th>\n",
       "      <td>Post about a video claims that it is a protest...</td>\n",
       "      <td>0</td>\n",
       "    </tr>\n",
       "    <tr>\n",
       "      <th>3</th>\n",
       "      <td>All deaths by respiratory failure and pneumoni...</td>\n",
       "      <td>0</td>\n",
       "    </tr>\n",
       "    <tr>\n",
       "      <th>4</th>\n",
       "      <td>The dean of the College of Biologists of Euska...</td>\n",
       "      <td>0</td>\n",
       "    </tr>\n",
       "  </tbody>\n",
       "</table>\n",
       "</div>"
      ],
      "text/plain": [
       "                                           headlines  outcome\n",
       "0  A post claims compulsory vacination violates t...        0\n",
       "1  A photo claims that this person is a doctor wh...        0\n",
       "2  Post about a video claims that it is a protest...        0\n",
       "3  All deaths by respiratory failure and pneumoni...        0\n",
       "4  The dean of the College of Biologists of Euska...        0"
      ]
     },
     "execution_count": 2,
     "metadata": {},
     "output_type": "execute_result"
    }
   ],
   "source": [
    "'''load training dataset'''\n",
    "df = pd.read_csv('../input/covid-fake-news-dataset/data.csv')\n",
    "df.head()"
   ]
  },
  {
   "cell_type": "markdown",
   "id": "70b23c60",
   "metadata": {
    "papermill": {
     "duration": 0.021048,
     "end_time": "2021-10-25T19:08:12.714046",
     "exception": false,
     "start_time": "2021-10-25T19:08:12.692998",
     "status": "completed"
    },
    "tags": []
   },
   "source": []
  },
  {
   "cell_type": "markdown",
   "id": "8242432f",
   "metadata": {
    "papermill": {
     "duration": 0.021025,
     "end_time": "2021-10-25T19:08:12.756531",
     "exception": false,
     "start_time": "2021-10-25T19:08:12.735506",
     "status": "completed"
    },
    "tags": []
   },
   "source": [
    "# **EDA & Cleaning**"
   ]
  },
  {
   "cell_type": "code",
   "execution_count": 3,
   "id": "37a40bdc",
   "metadata": {
    "execution": {
     "iopub.execute_input": "2021-10-25T19:08:12.804704Z",
     "iopub.status.busy": "2021-10-25T19:08:12.803979Z",
     "iopub.status.idle": "2021-10-25T19:08:12.807074Z",
     "shell.execute_reply": "2021-10-25T19:08:12.806554Z",
     "shell.execute_reply.started": "2021-10-25T19:06:38.758253Z"
    },
    "papermill": {
     "duration": 0.029441,
     "end_time": "2021-10-25T19:08:12.807208",
     "exception": false,
     "start_time": "2021-10-25T19:08:12.777767",
     "status": "completed"
    },
    "tags": []
   },
   "outputs": [
    {
     "data": {
      "text/plain": [
       "(10201, 2)"
      ]
     },
     "execution_count": 3,
     "metadata": {},
     "output_type": "execute_result"
    }
   ],
   "source": [
    "df.shape"
   ]
  },
  {
   "cell_type": "code",
   "execution_count": 4,
   "id": "ccad597f",
   "metadata": {
    "execution": {
     "iopub.execute_input": "2021-10-25T19:08:12.863649Z",
     "iopub.status.busy": "2021-10-25T19:08:12.862751Z",
     "iopub.status.idle": "2021-10-25T19:08:12.866353Z",
     "shell.execute_reply": "2021-10-25T19:08:12.865822Z",
     "shell.execute_reply.started": "2021-10-25T19:06:38.765046Z"
    },
    "papermill": {
     "duration": 0.037904,
     "end_time": "2021-10-25T19:08:12.866494",
     "exception": false,
     "start_time": "2021-10-25T19:08:12.828590",
     "status": "completed"
    },
    "tags": []
   },
   "outputs": [
    {
     "data": {
      "text/plain": [
       "0    9727\n",
       "1     474\n",
       "Name: outcome, dtype: int64"
      ]
     },
     "execution_count": 4,
     "metadata": {},
     "output_type": "execute_result"
    }
   ],
   "source": [
    "df['outcome'].value_counts()"
   ]
  },
  {
   "cell_type": "code",
   "execution_count": 5,
   "id": "13c528c1",
   "metadata": {
    "execution": {
     "iopub.execute_input": "2021-10-25T19:08:12.915970Z",
     "iopub.status.busy": "2021-10-25T19:08:12.915292Z",
     "iopub.status.idle": "2021-10-25T19:08:13.089657Z",
     "shell.execute_reply": "2021-10-25T19:08:13.090619Z",
     "shell.execute_reply.started": "2021-10-25T19:06:38.780032Z"
    },
    "papermill": {
     "duration": 0.20214,
     "end_time": "2021-10-25T19:08:13.090910",
     "exception": false,
     "start_time": "2021-10-25T19:08:12.888770",
     "status": "completed"
    },
    "tags": []
   },
   "outputs": [
    {
     "data": {
      "text/plain": [
       "<AxesSubplot:xlabel='outcome', ylabel='count'>"
      ]
     },
     "execution_count": 5,
     "metadata": {},
     "output_type": "execute_result"
    },
    {
     "data": {
      "image/png": "[encoded data removed]",
      "text/plain": [
       "<Figure size 432x288 with 1 Axes>"
      ]
     },
     "metadata": {
      "needs_background": "light"
     },
     "output_type": "display_data"
    }
   ],
   "source": [
    "sns.countplot(df['outcome'])"
   ]
  },
  {
   "cell_type": "markdown",
   "id": "2eb460f8",
   "metadata": {
    "papermill": {
     "duration": 0.024193,
     "end_time": "2021-10-25T19:08:13.147422",
     "exception": false,
     "start_time": "2021-10-25T19:08:13.123229",
     "status": "completed"
    },
    "tags": []
   },
   "source": [
    "**nulls Check**"
   ]
  },
  {
   "cell_type": "code",
   "execution_count": 6,
   "id": "86c65ee2",
   "metadata": {
    "execution": {
     "iopub.execute_input": "2021-10-25T19:08:13.196543Z",
     "iopub.status.busy": "2021-10-25T19:08:13.195861Z",
     "iopub.status.idle": "2021-10-25T19:08:13.203951Z",
     "shell.execute_reply": "2021-10-25T19:08:13.204564Z",
     "shell.execute_reply.started": "2021-10-25T19:06:38.970610Z"
    },
    "papermill": {
     "duration": 0.034399,
     "end_time": "2021-10-25T19:08:13.204732",
     "exception": false,
     "start_time": "2021-10-25T19:08:13.170333",
     "status": "completed"
    },
    "tags": []
   },
   "outputs": [
    {
     "data": {
      "text/plain": [
       "headlines    0\n",
       "outcome      0\n",
       "dtype: int64"
      ]
     },
     "execution_count": 6,
     "metadata": {},
     "output_type": "execute_result"
    }
   ],
   "source": [
    "df.isnull().sum()"
   ]
  },
  {
   "cell_type": "code",
   "execution_count": 7,
   "id": "78b11a1f",
   "metadata": {
    "execution": {
     "iopub.execute_input": "2021-10-25T19:08:13.254594Z",
     "iopub.status.busy": "2021-10-25T19:08:13.253936Z",
     "iopub.status.idle": "2021-10-25T19:08:13.261628Z",
     "shell.execute_reply": "2021-10-25T19:08:13.262237Z",
     "shell.execute_reply.started": "2021-10-25T19:06:38.982618Z"
    },
    "papermill": {
     "duration": 0.034377,
     "end_time": "2021-10-25T19:08:13.262427",
     "exception": false,
     "start_time": "2021-10-25T19:08:13.228050",
     "status": "completed"
    },
    "tags": []
   },
   "outputs": [
    {
     "data": {
      "text/plain": [
       "0        A post claims compulsory vacination violates t...\n",
       "1        A photo claims that this person is a doctor wh...\n",
       "2        Post about a video claims that it is a protest...\n",
       "3        All deaths by respiratory failure and pneumoni...\n",
       "4        The dean of the College of Biologists of Euska...\n",
       "                               ...                        \n",
       "10196    A Chinese market caused the new coronavirus (v...\n",
       "10197    The peak of the new coronavirus will happen in...\n",
       "10198    Stores and supermarkets in Veracruz (Mexico) w...\n",
       "10199    A chain message circulated on Tuesday, Jan. 14...\n",
       "10200    Photo shows Muslims in Tamil Nadu state of Ind...\n",
       "Name: headlines, Length: 10201, dtype: object"
      ]
     },
     "execution_count": 7,
     "metadata": {},
     "output_type": "execute_result"
    }
   ],
   "source": [
    "df['headlines']"
   ]
  },
  {
   "cell_type": "markdown",
   "id": "6c95bff7",
   "metadata": {
    "papermill": {
     "duration": 0.023632,
     "end_time": "2021-10-25T19:08:13.310118",
     "exception": false,
     "start_time": "2021-10-25T19:08:13.286486",
     "status": "completed"
    },
    "tags": []
   },
   "source": [
    "**nltk stopwords package**"
   ]
  },
  {
   "cell_type": "code",
   "execution_count": 8,
   "id": "c77c7ded",
   "metadata": {
    "execution": {
     "iopub.execute_input": "2021-10-25T19:08:13.364421Z",
     "iopub.status.busy": "2021-10-25T19:08:13.363398Z",
     "iopub.status.idle": "2021-10-25T19:08:13.646113Z",
     "shell.execute_reply": "2021-10-25T19:08:13.646658Z",
     "shell.execute_reply.started": "2021-10-25T19:06:38.997125Z"
    },
    "papermill": {
     "duration": 0.312987,
     "end_time": "2021-10-25T19:08:13.646826",
     "exception": false,
     "start_time": "2021-10-25T19:08:13.333839",
     "status": "completed"
    },
    "tags": []
   },
   "outputs": [
    {
     "name": "stdout",
     "output_type": "stream",
     "text": [
      "[nltk_data] Downloading package stopwords to /usr/share/nltk_data...\n",
      "[nltk_data]   Unzipping corpora/stopwords.zip.\n"
     ]
    },
    {
     "data": {
      "text/plain": [
       "True"
      ]
     },
     "execution_count": 8,
     "metadata": {},
     "output_type": "execute_result"
    }
   ],
   "source": [
    "import nltk\n",
    "nltk.download('stopwords')"
   ]
  },
  {
   "cell_type": "markdown",
   "id": "927afcea",
   "metadata": {
    "papermill": {
     "duration": 0.024393,
     "end_time": "2021-10-25T19:08:13.695819",
     "exception": false,
     "start_time": "2021-10-25T19:08:13.671426",
     "status": "completed"
    },
    "tags": []
   },
   "source": [
    "# **Stemming**"
   ]
  },
  {
   "cell_type": "code",
   "execution_count": 9,
   "id": "67e2ef82",
   "metadata": {
    "execution": {
     "iopub.execute_input": "2021-10-25T19:08:13.752633Z",
     "iopub.status.busy": "2021-10-25T19:08:13.747656Z",
     "iopub.status.idle": "2021-10-25T19:08:40.279396Z",
     "shell.execute_reply": "2021-10-25T19:08:40.278635Z",
     "shell.execute_reply.started": "2021-10-25T19:06:39.010169Z"
    },
    "papermill": {
     "duration": 26.559126,
     "end_time": "2021-10-25T19:08:40.279553",
     "exception": false,
     "start_time": "2021-10-25T19:08:13.720427",
     "status": "completed"
    },
    "tags": []
   },
   "outputs": [],
   "source": [
    "stem = PorterStemmer()\n",
    "def stemming(content):\n",
    "    content = re.sub('[^a-zA-Z]',' ',content)\n",
    "    content = content.lower()\n",
    "    content = content.split()\n",
    "    content = [stem.stem(word) for word in content if not word in stopwords.words('english')]\n",
    "    content = ' '.join(content)\n",
    "    return content\n",
    "df['headlines'] = df['headlines'].apply(stemming)"
   ]
  },
  {
   "cell_type": "markdown",
   "id": "4a4dfec9",
   "metadata": {
    "papermill": {
     "duration": 0.024043,
     "end_time": "2021-10-25T19:08:40.328443",
     "exception": false,
     "start_time": "2021-10-25T19:08:40.304400",
     "status": "completed"
    },
    "tags": []
   },
   "source": [
    "**X & y split**"
   ]
  },
  {
   "cell_type": "code",
   "execution_count": 10,
   "id": "d01adefc",
   "metadata": {
    "execution": {
     "iopub.execute_input": "2021-10-25T19:08:40.382704Z",
     "iopub.status.busy": "2021-10-25T19:08:40.382016Z",
     "iopub.status.idle": "2021-10-25T19:08:40.384835Z",
     "shell.execute_reply": "2021-10-25T19:08:40.384228Z",
     "shell.execute_reply.started": "2021-10-25T19:07:04.914143Z"
    },
    "papermill": {
     "duration": 0.031961,
     "end_time": "2021-10-25T19:08:40.384976",
     "exception": false,
     "start_time": "2021-10-25T19:08:40.353015",
     "status": "completed"
    },
    "tags": []
   },
   "outputs": [],
   "source": [
    "X = df['headlines'].values\n",
    "y = df['outcome'].values"
   ]
  },
  {
   "cell_type": "markdown",
   "id": "ddd42e44",
   "metadata": {
    "papermill": {
     "duration": 0.024069,
     "end_time": "2021-10-25T19:08:40.433863",
     "exception": false,
     "start_time": "2021-10-25T19:08:40.409794",
     "status": "completed"
    },
    "tags": []
   },
   "source": [
    "# **Vectoriz**"
   ]
  },
  {
   "cell_type": "code",
   "execution_count": 11,
   "id": "20ff0b6e",
   "metadata": {
    "execution": {
     "iopub.execute_input": "2021-10-25T19:08:40.506634Z",
     "iopub.status.busy": "2021-10-25T19:08:40.495982Z",
     "iopub.status.idle": "2021-10-25T19:08:40.848527Z",
     "shell.execute_reply": "2021-10-25T19:08:40.847947Z",
     "shell.execute_reply.started": "2021-10-25T19:07:04.921457Z"
    },
    "papermill": {
     "duration": 0.390485,
     "end_time": "2021-10-25T19:08:40.848680",
     "exception": false,
     "start_time": "2021-10-25T19:08:40.458195",
     "status": "completed"
    },
    "tags": []
   },
   "outputs": [],
   "source": [
    "vectorizer = TfidfVectorizer()\n",
    "vectorizer.fit(X)\n",
    "X = vectorizer.transform(X)"
   ]
  },
  {
   "cell_type": "markdown",
   "id": "82e9905d",
   "metadata": {
    "papermill": {
     "duration": 0.024283,
     "end_time": "2021-10-25T19:08:40.896853",
     "exception": false,
     "start_time": "2021-10-25T19:08:40.872570",
     "status": "completed"
    },
    "tags": []
   },
   "source": [
    "**Train & Test split**"
   ]
  },
  {
   "cell_type": "code",
   "execution_count": 12,
   "id": "11dffae7",
   "metadata": {
    "execution": {
     "iopub.execute_input": "2021-10-25T19:08:40.952603Z",
     "iopub.status.busy": "2021-10-25T19:08:40.951898Z",
     "iopub.status.idle": "2021-10-25T19:08:40.956566Z",
     "shell.execute_reply": "2021-10-25T19:08:40.955902Z",
     "shell.execute_reply.started": "2021-10-25T19:07:05.287215Z"
    },
    "papermill": {
     "duration": 0.035656,
     "end_time": "2021-10-25T19:08:40.956706",
     "exception": false,
     "start_time": "2021-10-25T19:08:40.921050",
     "status": "completed"
    },
    "tags": []
   },
   "outputs": [],
   "source": [
    "X_train, X_test, Y_train, Y_test = train_test_split(X,y, test_size=0.3, random_state=1)"
   ]
  },
  {
   "cell_type": "markdown",
   "id": "59bf1d60",
   "metadata": {
    "papermill": {
     "duration": 0.024566,
     "end_time": "2021-10-25T19:08:41.006161",
     "exception": false,
     "start_time": "2021-10-25T19:08:40.981595",
     "status": "completed"
    },
    "tags": []
   },
   "source": [
    "# **Machine Learning Model**"
   ]
  },
  {
   "cell_type": "code",
   "execution_count": 13,
   "id": "56e743b4",
   "metadata": {
    "execution": {
     "iopub.execute_input": "2021-10-25T19:08:41.059437Z",
     "iopub.status.busy": "2021-10-25T19:08:41.058701Z",
     "iopub.status.idle": "2021-10-25T19:08:41.074365Z",
     "shell.execute_reply": "2021-10-25T19:08:41.074921Z",
     "shell.execute_reply.started": "2021-10-25T19:07:05.295834Z"
    },
    "papermill": {
     "duration": 0.044291,
     "end_time": "2021-10-25T19:08:41.075110",
     "exception": false,
     "start_time": "2021-10-25T19:08:41.030819",
     "status": "completed"
    },
    "tags": []
   },
   "outputs": [],
   "source": [
    "sgd = SGDClassifier()     \n",
    "sgd = sgd.fit(X_train,Y_train)\n",
    "y_tpred = sgd.predict(X_train)\n",
    "y_pred = sgd.predict(X_test)"
   ]
  },
  {
   "cell_type": "code",
   "execution_count": 14,
   "id": "f1db37ca",
   "metadata": {
    "execution": {
     "iopub.execute_input": "2021-10-25T19:08:41.127715Z",
     "iopub.status.busy": "2021-10-25T19:08:41.127048Z",
     "iopub.status.idle": "2021-10-25T19:08:41.146762Z",
     "shell.execute_reply": "2021-10-25T19:08:41.147907Z",
     "shell.execute_reply.started": "2021-10-25T19:07:05.318420Z"
    },
    "papermill": {
     "duration": 0.048427,
     "end_time": "2021-10-25T19:08:41.148161",
     "exception": false,
     "start_time": "2021-10-25T19:08:41.099734",
     "status": "completed"
    },
    "tags": []
   },
   "outputs": [
    {
     "name": "stdout",
     "output_type": "stream",
     "text": [
      "train score : 0.985014005602241\n",
      "test score : 0.9663508657301535\n",
      "con matrix : [[2910    3]\n",
      " [ 100   48]]\n",
      "report :               precision    recall  f1-score   support\n",
      "\n",
      "           0       0.97      1.00      0.98      2913\n",
      "           1       0.94      0.32      0.48       148\n",
      "\n",
      "    accuracy                           0.97      3061\n",
      "   macro avg       0.95      0.66      0.73      3061\n",
      "weighted avg       0.97      0.97      0.96      3061\n",
      "\n"
     ]
    }
   ],
   "source": [
    "print('train score :',accuracy_score(Y_train ,y_tpred ))\n",
    "print('test score :',accuracy_score(Y_test , y_pred))\n",
    "print('con matrix :',confusion_matrix(Y_test, y_pred))\n",
    "print('report :',classification_report(Y_test, y_pred ))"
   ]
  },
  {
   "cell_type": "markdown",
   "id": "27c1cc4f",
   "metadata": {
    "papermill": {
     "duration": 0.024387,
     "end_time": "2021-10-25T19:08:41.198378",
     "exception": false,
     "start_time": "2021-10-25T19:08:41.173991",
     "status": "completed"
    },
    "tags": []
   },
   "source": [
    "# **Review the results**"
   ]
  },
  {
   "cell_type": "markdown",
   "id": "67cf4f2e",
   "metadata": {
    "papermill": {
     "duration": 0.024102,
     "end_time": "2021-10-25T19:08:41.247241",
     "exception": false,
     "start_time": "2021-10-25T19:08:41.223139",
     "status": "completed"
    },
    "tags": []
   },
   "source": [
    "**Confusion Matrix**"
   ]
  },
  {
   "cell_type": "code",
   "execution_count": 15,
   "id": "d5969b37",
   "metadata": {
    "execution": {
     "iopub.execute_input": "2021-10-25T19:08:41.301448Z",
     "iopub.status.busy": "2021-10-25T19:08:41.299454Z",
     "iopub.status.idle": "2021-10-25T19:08:41.548948Z",
     "shell.execute_reply": "2021-10-25T19:08:41.548391Z",
     "shell.execute_reply.started": "2021-10-25T19:07:05.340096Z"
    },
    "papermill": {
     "duration": 0.277178,
     "end_time": "2021-10-25T19:08:41.549092",
     "exception": false,
     "start_time": "2021-10-25T19:08:41.271914",
     "status": "completed"
    },
    "tags": []
   },
   "outputs": [
    {
     "name": "stdout",
     "output_type": "stream",
     "text": [
      "Confusion Matrix AxesSubplot(0.125,0.125;0.62x0.755)\n"
     ]
    },
    {
     "data": {
      "image/png": "[encoded data removed]",
      "text/plain": [
       "<Figure size 432x288 with 2 Axes>"
      ]
     },
     "metadata": {
      "needs_background": "light"
     },
     "output_type": "display_data"
    }
   ],
   "source": [
    "con = confusion_matrix(Y_test,y_pred)\n",
    "hmap =sns.heatmap(con,annot=True,fmt=\"d\")\n",
    "print ('Confusion Matrix',hmap)"
   ]
  },
  {
   "cell_type": "markdown",
   "id": "90e2e6dd",
   "metadata": {
    "papermill": {
     "duration": 0.025627,
     "end_time": "2021-10-25T19:08:41.600575",
     "exception": false,
     "start_time": "2021-10-25T19:08:41.574948",
     "status": "completed"
    },
    "tags": []
   },
   "source": [
    "**Classification Report**"
   ]
  },
  {
   "cell_type": "code",
   "execution_count": 16,
   "id": "1cc04cd0",
   "metadata": {
    "execution": {
     "iopub.execute_input": "2021-10-25T19:08:41.657439Z",
     "iopub.status.busy": "2021-10-25T19:08:41.656381Z",
     "iopub.status.idle": "2021-10-25T19:08:41.992857Z",
     "shell.execute_reply": "2021-10-25T19:08:41.992246Z",
     "shell.execute_reply.started": "2021-10-25T19:07:05.591708Z"
    },
    "papermill": {
     "duration": 0.366027,
     "end_time": "2021-10-25T19:08:41.993002",
     "exception": false,
     "start_time": "2021-10-25T19:08:41.626975",
     "status": "completed"
    },
    "tags": []
   },
   "outputs": [
    {
     "name": "stdout",
     "output_type": "stream",
     "text": [
      "Classification Report AxesSubplot(0.125,0.125;0.62x0.755)\n"
     ]
    },
    {
     "data": {
      "image/png": "[encoded data removed]",
      "text/plain": [
       "<Figure size 432x288 with 2 Axes>"
      ]
     },
     "metadata": {
      "needs_background": "light"
     },
     "output_type": "display_data"
    }
   ],
   "source": [
    "labels = np.arange(2)\n",
    "clf_report = classification_report(Y_test,y_pred,labels=labels,target_names=('Fake News','True News'), output_dict=True)\n",
    "hmap1 = sns.heatmap(pd.DataFrame(clf_report).iloc[:-1, :].T, annot=True)\n",
    "print ('Classification Report',hmap1)"
   ]
  },
  {
   "cell_type": "code",
   "execution_count": null,
   "id": "14894c05",
   "metadata": {
    "papermill": {
     "duration": 0.027347,
     "end_time": "2021-10-25T19:08:42.048974",
     "exception": false,
     "start_time": "2021-10-25T19:08:42.021627",
     "status": "completed"
    },
    "tags": []
   },
   "outputs": [],
   "source": []
  }
 ],
 "metadata": {
  "kernelspec": {
   "display_name": "Python 3",
   "language": "python",
   "name": "python3"
  },
  "language_info": {
   "codemirror_mode": {
    "name": "ipython",
    "version": 3
   },
   "file_extension": ".py",
   "mimetype": "text/x-python",
   "name": "python",
   "nbconvert_exporter": "python",
   "pygments_lexer": "ipython3",
   "version": "3.7.10"
  },
  "papermill": {
   "default_parameters": {},
   "duration": 41.878447,
   "end_time": "2021-10-25T19:08:42.787556",
   "environment_variables": {},
   "exception": null,
   "input_path": "__notebook__.ipynb",
   "output_path": "__notebook__.ipynb",
   "parameters": {},
   "start_time": "2021-10-25T19:08:00.909109",
   "version": "2.3.3"
  }
 },
 "nbformat": 4,
 "nbformat_minor": 5
}
